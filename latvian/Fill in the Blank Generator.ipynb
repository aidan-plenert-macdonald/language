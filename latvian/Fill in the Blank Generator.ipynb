{
 "cells": [
  {
   "cell_type": "code",
   "execution_count": 40,
   "metadata": {},
   "outputs": [],
   "source": [
    "text = \"\"\"\n",
    "Konkrētus nosacījumus par obligāto vakcināciju pret Covid-19 atsevišķās profesijās un darba devēja tiesībām nevakcinētos atlaist ministrijas vēl izstrādā, taču gala lēmums būs jāpieņem Saeimas deputātiem. Pēdējā laikā deputāti ne vienmēr atbalstījuši valdības lēmumus.\n",
    "\"\"\""
   ]
  },
  {
   "cell_type": "code",
   "execution_count": 41,
   "metadata": {},
   "outputs": [
    {
     "name": "stdout",
     "output_type": "stream",
     "text": [
      "\n",
      "Konkrētus nosacījumus 2. (par) __________ obligāto vakcināciju pret Covid-19 atsevišķās profesijās un darba devēja tiesībām nevakcinētos atlaist ministrijas vēl izstrādā, taču gala lēmums būs jāpieņem Saeimas deputātiem. Pēdējā laikā deputāti ne vienmēr atbalstījuši 3. (valdība) __________ 4. (lēmums) __________.\n",
      "\n",
      "\n",
      "\n",
      "\n",
      "1. par\n",
      "2. valdības\n",
      "3. lēmumus\n"
     ]
    }
   ],
   "source": [
    "import re\n",
    "import random\n",
    "import requests\n",
    "import lxml.html\n",
    "from xml.etree import ElementTree\n",
    "\n",
    "def download(word):\n",
    "    url = f\"https://www.letonika.lv/groups/default.aspx?q={word}&title={word}/0&s=0&g=5&r=1100\"\n",
    "    tree = lxml.html.fromstring(requests.get(url).content)\n",
    "    return word, url, ElementTree.tostring(tree.xpath(\"//td[@class='master_vidus']\")[0])\n",
    "\n",
    "newtext = ''\n",
    "start = 0\n",
    "counter = 1\n",
    "answers = []\n",
    "for m in re.finditer(r\"(\\w+)\", text):\n",
    "    end, newstart = m.span()\n",
    "    newtext += text[start:end]\n",
    "    word = m.group(1)\n",
    "    \n",
    "    if random.random() < 0.1:\n",
    "        try:\n",
    "            _, url, html = download(word)\n",
    "            tree = lxml.html.fromstring(html.decode(\"utf-8\"))\n",
    "            results = tree.xpath(\"//td[@class='Entrytext']\")[0]\n",
    "            entrytext = results.xpath(\"//span/span[@class='Entrytext']\")[0].xpath(\"string()\")\n",
    "            \n",
    "            dict_form = re.search(r\"pamatforma:\\s+(\\w+);\", entrytext).group(1)\n",
    "\n",
    "            counter += 1\n",
    "            newtext += f\"{counter}. ({dict_form}) __________\"\n",
    "            answers.append(word)\n",
    "        except Exception as e:\n",
    "            newtext += word\n",
    "    else:\n",
    "        newtext += word\n",
    "    start = newstart\n",
    "\n",
    "newtext += text[start:]\n",
    "print(newtext)\n",
    "print(\"\\n\\n\")\n",
    "print(\"\\n\".join(f\"{i+1}. {w}\" for i, w in enumerate(answers)))"
   ]
  }
 ],
 "metadata": {
  "kernelspec": {
   "display_name": "Python 3",
   "language": "python",
   "name": "python3"
  },
  "language_info": {
   "codemirror_mode": {
    "name": "ipython",
    "version": 3
   },
   "file_extension": ".py",
   "mimetype": "text/x-python",
   "name": "python",
   "nbconvert_exporter": "python",
   "pygments_lexer": "ipython3",
   "version": "3.9.5"
  }
 },
 "nbformat": 4,
 "nbformat_minor": 4
}
