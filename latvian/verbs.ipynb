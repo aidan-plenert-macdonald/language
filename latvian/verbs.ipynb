{
 "cells": [
  {
   "cell_type": "markdown",
   "metadata": {},
   "source": [
    "# Reflexive Verbs\n",
    "\n",
    "Gotta love the lack of documentation about obscure languages. Lets scrape the conjugation rules from the internet.\n",
    "\n",
    "## First scrape a bunch of reflexive verb tables"
   ]
  },
  {
   "cell_type": "code",
   "execution_count": 2,
   "metadata": {
    "scrolled": true
   },
   "outputs": [],
   "source": [
    "from bs4 import BeautifulSoup\n",
    "import requests\n",
    "from pprint import pprint\n",
    "\n",
    "def get_soup(suffix, base_url='https://en.wiktionary.org'):\n",
    "    return BeautifulSoup(requests.get(base_url + suffix).text, 'lxml')\n",
    "\n",
    "words = {}\n",
    "\n",
    "base_soup = get_soup('/wiki/Category:Latvian_verbs')\n",
    "for word_soup in base_soup.find_all('div', class_='mw-content-ltr')[0].find_all('a', href=True):\n",
    "    if word_soup.has_attr('title'):\n",
    "        try:\n",
    "            conjug_soup = get_soup(word_soup['href']).find_all('table', class_='inflection-table')\n",
    "            data = [\n",
    "                [\n",
    "                    {\"string\":ele.text.strip(),\n",
    "                     \"type\": \"th\",\n",
    "                     \"rowspan\": int(ele['rowspan']) if ele.has_attr('rowspan') else 1,\n",
    "                     \"colspan\": int(ele['colspan']) if ele.has_attr('colspan') else 1}\n",
    "                    for ele in row.find_all('th')\n",
    "                    #if ele.text.strip()\n",
    "                ] + [\n",
    "                    {\"string\":ele.text.strip(),\n",
    "                     \"type\": \"td\",\n",
    "                     \"rowspan\": int(ele['rowspan']) if ele.has_attr('rowspan') else 1,\n",
    "                     \"colspan\": int(ele['colspan']) if ele.has_attr('colspan') else 1}\n",
    "                    for ele in row.find_all('td')\n",
    "                    #if ele.text.strip()\n",
    "                ]\n",
    "                for row in conjug_soup[0].find_all('tr')\n",
    "            ]\n",
    "            words[word_soup.text] = data\n",
    "        except:\n",
    "            pass\n",
    "#pprint(words)"
   ]
  },
  {
   "cell_type": "code",
   "execution_count": 3,
   "metadata": {},
   "outputs": [
    {
     "name": "stdout",
     "output_type": "stream",
     "text": [
      "203\n"
     ]
    }
   ],
   "source": [
    "print(len(words))"
   ]
  },
  {
   "cell_type": "markdown",
   "metadata": {},
   "source": [
    "## Try to extract out how the stem is used"
   ]
  },
  {
   "cell_type": "code",
   "execution_count": 4,
   "metadata": {
    "scrolled": false
   },
   "outputs": [],
   "source": [
    "import matplotlib.pyplot as plt\n",
    "import numpy as np\n",
    "\n",
    "def find_stem(word, word_block):\n",
    "    conjugated_forms = ''.join([\n",
    "        col['string']\n",
    "        for row in word_block\n",
    "        for col in row\n",
    "        if col['type'] == 'td'\n",
    "    ])\n",
    "    \n",
    "    stem_length_weight = 2.5\n",
    "    occurances = np.array([\n",
    "        conjugated_forms.count(word[:i]) * (i+1)**stem_length_weight\n",
    "        for i in range(len(word))\n",
    "    ])\n",
    "    \n",
    "    return word[:np.argmax(occurances)], word[np.argmax(occurances):]\n",
    "\n",
    "def replace_stem(word_block, stem):\n",
    "    return [\n",
    "        [ \n",
    "            { key: \n",
    "                value.replace(stem, '_'*4) \n",
    "                if key == 'string' else value\n",
    "                for key, value in col.items() }\n",
    "            if col['type'] == 'td' else col\n",
    "            for col in row\n",
    "        ]\n",
    "        for row in word_block\n",
    "    ]\n",
    "\n",
    "rule_blocks = {}\n",
    "for word in words:\n",
    "    stem, ending = find_stem(word, words[word])\n",
    "    rule_blocks[f'[{stem}]{ending}'] = replace_stem(words[word], stem)\n",
    "\n",
    "#pprint(rule_blocks)"
   ]
  },
  {
   "cell_type": "markdown",
   "metadata": {},
   "source": [
    "Collapse down the rules"
   ]
  },
  {
   "cell_type": "code",
   "execution_count": 5,
   "metadata": {},
   "outputs": [],
   "source": [
    "summarized_rules = [\n",
    "    # ([words, ...], rule_block)\n",
    "]\n",
    "for word, rule in rule_blocks.items():\n",
    "    try:\n",
    "        index = list(zip(*summarized_rules))[1].index(rule)\n",
    "        summarized_rules[index][0].append(word)\n",
    "    except:\n",
    "        summarized_rules.append(([word], rule))"
   ]
  },
  {
   "cell_type": "markdown",
   "metadata": {},
   "source": [
    "## Now we can display our stem table"
   ]
  },
  {
   "cell_type": "code",
   "execution_count": 8,
   "metadata": {
    "scrolled": false
   },
   "outputs": [
    {
     "name": "stdout",
     "output_type": "stream",
     "text": [
      "[vēro]t, [ievēro]t, [mērcē]t, [baro]t, [abstrahē]t, [akcentē]t, [aktivizē]t, [aktualizē]t, [apbrīno]t, [apvieno]t, [atvaino]t, [audzē]t, [auklē]t, [biedē]t, [bloķē]t, [brokasto]t, [burbuļo]t, [bučo]t, [centralizē]t, [centrē]t, [dabū]t, [deaktivizē]t, [dejo]t, [demokratizē]t, [deso]t, [diskutē]t, [domā]t, [dzemdē]t, [dzīvo]t, [ejakulē]t, [elpo]t, [fotografē]t, [garšo]t, [gatavo]t, [gādā]t, [indē]t, [iniciē]t, [inspirē]t, [intonē]t, [iztulko]t, [jautā]t, [kaplē]t, [kapā]t, [klepo]t, [konstatē]t, [kārto]t, [lido]t, [maksā]t, [mazgā]t, [meklē]t, [mezglo]t, [mežģī]t, [modernizē]t\n"
     ]
    },
    {
     "data": {
      "text/html": [
       "<html><body><table><tr><th colspan=\"1\" rowspan=\"1\" string=\"\" type=\"th\"></th><th colspan=\"4\" rowspan=\"1\" string=\"INDICATIVE (īstenības izteiksme)\" type=\"th\">INDICATIVE (īstenības izteiksme)</th><th colspan=\"1\" rowspan=\"2\" string=\"IMPERATIVE\n",
       "(pavēles izteiksme)\" type=\"th\">IMPERATIVE\n",
       "(pavēles izteiksme)</th></tr><tr><th colspan=\"1\" rowspan=\"1\" string=\"\" type=\"th\"></th><th colspan=\"1\" rowspan=\"1\" string=\"\" type=\"th\"></th><th colspan=\"1\" rowspan=\"1\" string=\"Present\n",
       "(tagadne)\" type=\"th\">Present\n",
       "(tagadne)</th><th colspan=\"1\" rowspan=\"1\" string=\"Past\n",
       "(pagātne)\" type=\"th\">Past\n",
       "(pagātne)</th><th colspan=\"1\" rowspan=\"1\" string=\"Future\n",
       "(nākotne)\" type=\"th\">Future\n",
       "(nākotne)</th></tr><tr><th colspan=\"1\" rowspan=\"1\" string=\"1st pers. sg.\" type=\"th\">1st pers. sg.</th><th colspan=\"1\" rowspan=\"1\" string=\"es\" type=\"th\">es</th><td colspan=\"1\" rowspan=\"1\" string=\"____ju\" type=\"td\">____ju</td><td colspan=\"1\" rowspan=\"1\" string=\"____ju\" type=\"td\">____ju</td><td colspan=\"1\" rowspan=\"1\" string=\"____šu\" type=\"td\">____šu</td><td colspan=\"1\" rowspan=\"1\" string=\"—\" type=\"td\">—</td></tr><tr><th colspan=\"1\" rowspan=\"1\" string=\"2nd pers. sg.\" type=\"th\">2nd pers. sg.</th><th colspan=\"1\" rowspan=\"1\" string=\"tu\" type=\"th\">tu</th><td colspan=\"1\" rowspan=\"1\" string=\"____\" type=\"td\">____</td><td colspan=\"1\" rowspan=\"1\" string=\"____ji\" type=\"td\">____ji</td><td colspan=\"1\" rowspan=\"1\" string=\"____si\" type=\"td\">____si</td><td colspan=\"1\" rowspan=\"1\" string=\"____\" type=\"td\">____</td></tr><tr><th colspan=\"1\" rowspan=\"1\" string=\"3rd pers. sg.\" type=\"th\">3rd pers. sg.</th><th colspan=\"1\" rowspan=\"1\" string=\"viņš, viņa\" type=\"th\">viņš, viņa</th><td colspan=\"1\" rowspan=\"1\" string=\"____\" type=\"td\">____</td><td colspan=\"1\" rowspan=\"1\" string=\"____ja\" type=\"td\">____ja</td><td colspan=\"1\" rowspan=\"1\" string=\"____s\" type=\"td\">____s</td><td colspan=\"1\" rowspan=\"1\" string=\"lai ____\" type=\"td\">lai ____</td></tr><tr><th colspan=\"1\" rowspan=\"1\" string=\"1st pers. pl.\" type=\"th\">1st pers. pl.</th><th colspan=\"1\" rowspan=\"1\" string=\"mēs\" type=\"th\">mēs</th><td colspan=\"1\" rowspan=\"1\" string=\"____jam\" type=\"td\">____jam</td><td colspan=\"1\" rowspan=\"1\" string=\"____jām\" type=\"td\">____jām</td><td colspan=\"1\" rowspan=\"1\" string=\"____sim\" type=\"td\">____sim</td><td colspan=\"1\" rowspan=\"1\" string=\"____sim\" type=\"td\">____sim</td></tr><tr><th colspan=\"1\" rowspan=\"1\" string=\"2nd pers. pl.\" type=\"th\">2nd pers. pl.</th><th colspan=\"1\" rowspan=\"1\" string=\"jūs\" type=\"th\">jūs</th><td colspan=\"1\" rowspan=\"1\" string=\"____jat\" type=\"td\">____jat</td><td colspan=\"1\" rowspan=\"1\" string=\"____jāt\" type=\"td\">____jāt</td><td colspan=\"1\" rowspan=\"1\" string=\"____siet,\n",
       "____sit\" type=\"td\">____siet,\n",
       "____sit</td><td colspan=\"1\" rowspan=\"1\" string=\"____jiet\" type=\"td\">____jiet</td></tr><tr><th colspan=\"1\" rowspan=\"1\" string=\"3rd pers. pl.\" type=\"th\">3rd pers. pl.</th><th colspan=\"1\" rowspan=\"1\" string=\"viņi, viņas\" type=\"th\">viņi, viņas</th><td colspan=\"1\" rowspan=\"1\" string=\"____\" type=\"td\">____</td><td colspan=\"1\" rowspan=\"1\" string=\"____ja\" type=\"td\">____ja</td><td colspan=\"1\" rowspan=\"1\" string=\"____s\" type=\"td\">____s</td><td colspan=\"1\" rowspan=\"1\" string=\"lai ____\" type=\"td\">lai ____</td></tr><tr><th colspan=\"6\" rowspan=\"1\" string=\"\" type=\"th\"></th></tr><tr><th colspan=\"3\" rowspan=\"1\" string=\"RENARRATIVE (atstāstījuma izteiksme)\" type=\"th\">RENARRATIVE (atstāstījuma izteiksme)</th><th colspan=\"3\" rowspan=\"1\" string=\"PARTICIPLES (divdabji)\" type=\"th\">PARTICIPLES (divdabji)</th></tr><tr><th colspan=\"1\" rowspan=\"1\" string=\"Present\" type=\"th\">Present</th><th colspan=\"2\" rowspan=\"1\" string=\"Present Active 1 (Adj.)\" type=\"th\">Present Active 1 (Adj.)</th><td colspan=\"2\" rowspan=\"1\" string=\"____jot\" type=\"td\">____jot</td><td colspan=\"1\" rowspan=\"1\" string=\"____jošs\" type=\"td\">____jošs</td></tr><tr><th colspan=\"1\" rowspan=\"1\" string=\"Past\" type=\"th\">Past</th><th colspan=\"2\" rowspan=\"1\" string=\"Present Active 2 (Adv.)\" type=\"th\">Present Active 2 (Adv.)</th><td colspan=\"2\" rowspan=\"1\" string=\"esot ____jis\" type=\"td\">esot ____jis</td><td colspan=\"1\" rowspan=\"1\" string=\"____dams\" type=\"td\">____dams</td></tr><tr><th colspan=\"1\" rowspan=\"1\" string=\"Future\" type=\"th\">Future</th><th colspan=\"2\" rowspan=\"1\" string=\"Present Active 3 (Adv.)\" type=\"th\">Present Active 3 (Adv.)</th><td colspan=\"2\" rowspan=\"1\" string=\"____šot\" type=\"td\">____šot</td><td colspan=\"1\" rowspan=\"1\" string=\"____jot\" type=\"td\">____jot</td></tr><tr><th colspan=\"1\" rowspan=\"1\" string=\"Imperative\" type=\"th\">Imperative</th><th colspan=\"2\" rowspan=\"1\" string=\"Present Active 4 (Obj.)\" type=\"th\">Present Active 4 (Obj.)</th><td colspan=\"2\" rowspan=\"1\" string=\"lai ____jot\" type=\"td\">lai ____jot</td><td colspan=\"1\" rowspan=\"1\" string=\"____jam\" type=\"td\">____jam</td></tr><tr><th colspan=\"3\" rowspan=\"1\" string=\"CONDITIONAL (vēlējuma izteiksme)\" type=\"th\">CONDITIONAL (vēlējuma izteiksme)</th><th colspan=\"2\" rowspan=\"1\" string=\"Past Active\" type=\"th\">Past Active</th><td colspan=\"1\" rowspan=\"1\" string=\"____jis\" type=\"td\">____jis</td></tr><tr><th colspan=\"1\" rowspan=\"1\" string=\"Present\" type=\"th\">Present</th><th colspan=\"2\" rowspan=\"1\" string=\"Present Passive\" type=\"th\">Present Passive</th><td colspan=\"2\" rowspan=\"1\" string=\"____tu\" type=\"td\">____tu</td><td colspan=\"1\" rowspan=\"1\" string=\"____jams\" type=\"td\">____jams</td></tr><tr><th colspan=\"1\" rowspan=\"1\" string=\"Past\" type=\"th\">Past</th><th colspan=\"2\" rowspan=\"1\" string=\"Past Passive\" type=\"th\">Past Passive</th><td colspan=\"2\" rowspan=\"1\" string=\"būtu ____jis\" type=\"td\">būtu ____jis</td><td colspan=\"1\" rowspan=\"1\" string=\"____ts\" type=\"td\">____ts</td></tr><tr><th colspan=\"3\" rowspan=\"1\" string=\"DEBITIVE (vajadzības izteiksme)\" type=\"th\">DEBITIVE (vajadzības izteiksme)</th><th colspan=\"3\" rowspan=\"1\" string=\"NOMINAL FORMS\" type=\"th\">NOMINAL FORMS</th></tr><tr><th colspan=\"1\" rowspan=\"1\" string=\"Indicative\" type=\"th\">Indicative</th><th colspan=\"2\" rowspan=\"1\" string=\"Infinitive (nenoteiksme)\" type=\"th\">Infinitive (nenoteiksme)</th><td colspan=\"2\" rowspan=\"1\" string=\"(būt) jā____\" type=\"td\">(būt) jā____</td><td colspan=\"1\" rowspan=\"1\" string=\"____t\" type=\"td\">____t</td></tr><tr><th colspan=\"1\" rowspan=\"1\" string=\"Conjunctive 1\" type=\"th\">Conjunctive 1</th><th colspan=\"2\" rowspan=\"1\" string=\"Negative Infinitive\" type=\"th\">Negative Infinitive</th><td colspan=\"2\" rowspan=\"1\" string=\"esot jā____\" type=\"td\">esot jā____</td><td colspan=\"1\" rowspan=\"1\" string=\"ne____t\" type=\"td\">ne____t</td></tr><tr><th colspan=\"1\" rowspan=\"1\" string=\"Conjunctive 2\" type=\"th\">Conjunctive 2</th><th colspan=\"2\" rowspan=\"1\" string=\"Verbal noun\" type=\"th\">Verbal noun</th><td colspan=\"2\" rowspan=\"1\" string=\"jā____jot\" type=\"td\">jā____jot</td><td colspan=\"1\" rowspan=\"1\" string=\"____šana\" type=\"td\">____šana</td></tr></table></body></html>"
      ],
      "text/plain": [
       "<IPython.core.display.HTML object>"
      ]
     },
     "metadata": {},
     "output_type": "display_data"
    },
    {
     "name": "stdout",
     "output_type": "stream",
     "text": [
      "[main]īt, [apmain]īt, [atstāst]īt, [baid]īt, [dal]īt, [dar]īt, [gaid]īt, [groz]īt, [izdar]īt, [izskat]īt, [klaus]īt, [laiz]īt, [las]īt, [lāp]īt, [man]īt, [māc]īt, [mān]īt\n"
     ]
    },
    {
     "data": {
      "text/html": [
       "<html><body><table><tr><th colspan=\"1\" rowspan=\"1\" string=\"\" type=\"th\"></th><th colspan=\"4\" rowspan=\"1\" string=\"INDICATIVE (īstenības izteiksme)\" type=\"th\">INDICATIVE (īstenības izteiksme)</th><th colspan=\"1\" rowspan=\"2\" string=\"IMPERATIVE\n",
       "(pavēles izteiksme)\" type=\"th\">IMPERATIVE\n",
       "(pavēles izteiksme)</th></tr><tr><th colspan=\"1\" rowspan=\"1\" string=\"\" type=\"th\"></th><th colspan=\"1\" rowspan=\"1\" string=\"\" type=\"th\"></th><th colspan=\"1\" rowspan=\"1\" string=\"Present\n",
       "(tagadne)\" type=\"th\">Present\n",
       "(tagadne)</th><th colspan=\"1\" rowspan=\"1\" string=\"Past\n",
       "(pagātne)\" type=\"th\">Past\n",
       "(pagātne)</th><th colspan=\"1\" rowspan=\"1\" string=\"Future\n",
       "(nākotne)\" type=\"th\">Future\n",
       "(nākotne)</th></tr><tr><th colspan=\"1\" rowspan=\"1\" string=\"1st pers. sg.\" type=\"th\">1st pers. sg.</th><th colspan=\"1\" rowspan=\"1\" string=\"es\" type=\"th\">es</th><td colspan=\"1\" rowspan=\"1\" string=\"____u\" type=\"td\">____u</td><td colspan=\"1\" rowspan=\"1\" string=\"____īju\" type=\"td\">____īju</td><td colspan=\"1\" rowspan=\"1\" string=\"____īšu\" type=\"td\">____īšu</td><td colspan=\"1\" rowspan=\"1\" string=\"—\" type=\"td\">—</td></tr><tr><th colspan=\"1\" rowspan=\"1\" string=\"2nd pers. sg.\" type=\"th\">2nd pers. sg.</th><th colspan=\"1\" rowspan=\"1\" string=\"tu\" type=\"th\">tu</th><td colspan=\"1\" rowspan=\"1\" string=\"____i\" type=\"td\">____i</td><td colspan=\"1\" rowspan=\"1\" string=\"____īji\" type=\"td\">____īji</td><td colspan=\"1\" rowspan=\"1\" string=\"____īsi\" type=\"td\">____īsi</td><td colspan=\"1\" rowspan=\"1\" string=\"____i\" type=\"td\">____i</td></tr><tr><th colspan=\"1\" rowspan=\"1\" string=\"3rd pers. sg.\" type=\"th\">3rd pers. sg.</th><th colspan=\"1\" rowspan=\"1\" string=\"viņš, viņa\" type=\"th\">viņš, viņa</th><td colspan=\"1\" rowspan=\"1\" string=\"____a\" type=\"td\">____a</td><td colspan=\"1\" rowspan=\"1\" string=\"____īja\" type=\"td\">____īja</td><td colspan=\"1\" rowspan=\"1\" string=\"____īs\" type=\"td\">____īs</td><td colspan=\"1\" rowspan=\"1\" string=\"lai ____a\" type=\"td\">lai ____a</td></tr><tr><th colspan=\"1\" rowspan=\"1\" string=\"1st pers. pl.\" type=\"th\">1st pers. pl.</th><th colspan=\"1\" rowspan=\"1\" string=\"mēs\" type=\"th\">mēs</th><td colspan=\"1\" rowspan=\"1\" string=\"____ām\" type=\"td\">____ām</td><td colspan=\"1\" rowspan=\"1\" string=\"____ījām\" type=\"td\">____ījām</td><td colspan=\"1\" rowspan=\"1\" string=\"____īsim\" type=\"td\">____īsim</td><td colspan=\"1\" rowspan=\"1\" string=\"____īsim\" type=\"td\">____īsim</td></tr><tr><th colspan=\"1\" rowspan=\"1\" string=\"2nd pers. pl.\" type=\"th\">2nd pers. pl.</th><th colspan=\"1\" rowspan=\"1\" string=\"jūs\" type=\"th\">jūs</th><td colspan=\"1\" rowspan=\"1\" string=\"____āt\" type=\"td\">____āt</td><td colspan=\"1\" rowspan=\"1\" string=\"____ījāt\" type=\"td\">____ījāt</td><td colspan=\"1\" rowspan=\"1\" string=\"____īsiet,\n",
       "____īsit\" type=\"td\">____īsiet,\n",
       "____īsit</td><td colspan=\"1\" rowspan=\"1\" string=\"____iet\" type=\"td\">____iet</td></tr><tr><th colspan=\"1\" rowspan=\"1\" string=\"3rd pers. pl.\" type=\"th\">3rd pers. pl.</th><th colspan=\"1\" rowspan=\"1\" string=\"viņi, viņas\" type=\"th\">viņi, viņas</th><td colspan=\"1\" rowspan=\"1\" string=\"____a\" type=\"td\">____a</td><td colspan=\"1\" rowspan=\"1\" string=\"____īja\" type=\"td\">____īja</td><td colspan=\"1\" rowspan=\"1\" string=\"____īs\" type=\"td\">____īs</td><td colspan=\"1\" rowspan=\"1\" string=\"lai ____a\" type=\"td\">lai ____a</td></tr><tr><th colspan=\"6\" rowspan=\"1\" string=\"\" type=\"th\"></th></tr><tr><th colspan=\"3\" rowspan=\"1\" string=\"RENARRATIVE (atstāstījuma izteiksme)\" type=\"th\">RENARRATIVE (atstāstījuma izteiksme)</th><th colspan=\"3\" rowspan=\"1\" string=\"PARTICIPLES (divdabji)\" type=\"th\">PARTICIPLES (divdabji)</th></tr><tr><th colspan=\"1\" rowspan=\"1\" string=\"Present\" type=\"th\">Present</th><th colspan=\"2\" rowspan=\"1\" string=\"Present Active 1 (Adj.)\" type=\"th\">Present Active 1 (Adj.)</th><td colspan=\"2\" rowspan=\"1\" string=\"____ot\" type=\"td\">____ot</td><td colspan=\"1\" rowspan=\"1\" string=\"____ošs\" type=\"td\">____ošs</td></tr><tr><th colspan=\"1\" rowspan=\"1\" string=\"Past\" type=\"th\">Past</th><th colspan=\"2\" rowspan=\"1\" string=\"Present Active 2 (Adv.)\" type=\"th\">Present Active 2 (Adv.)</th><td colspan=\"2\" rowspan=\"1\" string=\"esot ____ījis\" type=\"td\">esot ____ījis</td><td colspan=\"1\" rowspan=\"1\" string=\"____īdams\" type=\"td\">____īdams</td></tr><tr><th colspan=\"1\" rowspan=\"1\" string=\"Future\" type=\"th\">Future</th><th colspan=\"2\" rowspan=\"1\" string=\"Present Active 3 (Adv.)\" type=\"th\">Present Active 3 (Adv.)</th><td colspan=\"2\" rowspan=\"1\" string=\"____īšot\" type=\"td\">____īšot</td><td colspan=\"1\" rowspan=\"1\" string=\"____ot\" type=\"td\">____ot</td></tr><tr><th colspan=\"1\" rowspan=\"1\" string=\"Imperative\" type=\"th\">Imperative</th><th colspan=\"2\" rowspan=\"1\" string=\"Present Active 4 (Obj.)\" type=\"th\">Present Active 4 (Obj.)</th><td colspan=\"2\" rowspan=\"1\" string=\"lai ____ot\" type=\"td\">lai ____ot</td><td colspan=\"1\" rowspan=\"1\" string=\"____ām\" type=\"td\">____ām</td></tr><tr><th colspan=\"3\" rowspan=\"1\" string=\"CONDITIONAL (vēlējuma izteiksme)\" type=\"th\">CONDITIONAL (vēlējuma izteiksme)</th><th colspan=\"2\" rowspan=\"1\" string=\"Past Active\" type=\"th\">Past Active</th><td colspan=\"1\" rowspan=\"1\" string=\"____ījis\" type=\"td\">____ījis</td></tr><tr><th colspan=\"1\" rowspan=\"1\" string=\"Present\" type=\"th\">Present</th><th colspan=\"2\" rowspan=\"1\" string=\"Present Passive\" type=\"th\">Present Passive</th><td colspan=\"2\" rowspan=\"1\" string=\"____ītu\" type=\"td\">____ītu</td><td colspan=\"1\" rowspan=\"1\" string=\"____āms\" type=\"td\">____āms</td></tr><tr><th colspan=\"1\" rowspan=\"1\" string=\"Past\" type=\"th\">Past</th><th colspan=\"2\" rowspan=\"1\" string=\"Past Passive\" type=\"th\">Past Passive</th><td colspan=\"2\" rowspan=\"1\" string=\"būtu ____ījis\" type=\"td\">būtu ____ījis</td><td colspan=\"1\" rowspan=\"1\" string=\"____īts\" type=\"td\">____īts</td></tr><tr><th colspan=\"3\" rowspan=\"1\" string=\"DEBITIVE (vajadzības izteiksme)\" type=\"th\">DEBITIVE (vajadzības izteiksme)</th><th colspan=\"3\" rowspan=\"1\" string=\"NOMINAL FORMS\" type=\"th\">NOMINAL FORMS</th></tr><tr><th colspan=\"1\" rowspan=\"1\" string=\"Indicative\" type=\"th\">Indicative</th><th colspan=\"2\" rowspan=\"1\" string=\"Infinitive (nenoteiksme)\" type=\"th\">Infinitive (nenoteiksme)</th><td colspan=\"2\" rowspan=\"1\" string=\"(būt) jā____a\" type=\"td\">(būt) jā____a</td><td colspan=\"1\" rowspan=\"1\" string=\"____īt\" type=\"td\">____īt</td></tr><tr><th colspan=\"1\" rowspan=\"1\" string=\"Conjunctive 1\" type=\"th\">Conjunctive 1</th><th colspan=\"2\" rowspan=\"1\" string=\"Negative Infinitive\" type=\"th\">Negative Infinitive</th><td colspan=\"2\" rowspan=\"1\" string=\"esot jā____a\" type=\"td\">esot jā____a</td><td colspan=\"1\" rowspan=\"1\" string=\"ne____īt\" type=\"td\">ne____īt</td></tr><tr><th colspan=\"1\" rowspan=\"1\" string=\"Conjunctive 2\" type=\"th\">Conjunctive 2</th><th colspan=\"2\" rowspan=\"1\" string=\"Verbal noun\" type=\"th\">Verbal noun</th><td colspan=\"2\" rowspan=\"1\" string=\"jā____ot\" type=\"td\">jā____ot</td><td colspan=\"1\" rowspan=\"1\" string=\"____īšana\" type=\"td\">____īšana</td></tr></table></body></html>"
      ],
      "text/plain": [
       "<IPython.core.display.HTML object>"
      ]
     },
     "metadata": {},
     "output_type": "display_data"
    },
    {
     "name": "stdout",
     "output_type": "stream",
     "text": [
      "[zvēr]ēt, [prec]ēt, [cer]ēt, [mīl]ēt, [aizstāv]ēt, [atbild]ēt, [drīkst]ēt, [dzird]ēt, [grib]ēt, [kust]ēt, [līdz]ēt, [min]ēt\n"
     ]
    },
    {
     "data": {
      "text/html": [
       "<html><body><table><tr><th colspan=\"1\" rowspan=\"1\" string=\"\" type=\"th\"></th><th colspan=\"4\" rowspan=\"1\" string=\"INDICATIVE (īstenības izteiksme)\" type=\"th\">INDICATIVE (īstenības izteiksme)</th><th colspan=\"1\" rowspan=\"2\" string=\"IMPERATIVE\n",
       "(pavēles izteiksme)\" type=\"th\">IMPERATIVE\n",
       "(pavēles izteiksme)</th></tr><tr><th colspan=\"1\" rowspan=\"1\" string=\"\" type=\"th\"></th><th colspan=\"1\" rowspan=\"1\" string=\"\" type=\"th\"></th><th colspan=\"1\" rowspan=\"1\" string=\"Present\n",
       "(tagadne)\" type=\"th\">Present\n",
       "(tagadne)</th><th colspan=\"1\" rowspan=\"1\" string=\"Past\n",
       "(pagātne)\" type=\"th\">Past\n",
       "(pagātne)</th><th colspan=\"1\" rowspan=\"1\" string=\"Future\n",
       "(nākotne)\" type=\"th\">Future\n",
       "(nākotne)</th></tr><tr><th colspan=\"1\" rowspan=\"1\" string=\"1st pers. sg.\" type=\"th\">1st pers. sg.</th><th colspan=\"1\" rowspan=\"1\" string=\"es\" type=\"th\">es</th><td colspan=\"1\" rowspan=\"1\" string=\"____u\" type=\"td\">____u</td><td colspan=\"1\" rowspan=\"1\" string=\"____ēju\" type=\"td\">____ēju</td><td colspan=\"1\" rowspan=\"1\" string=\"____ēšu\" type=\"td\">____ēšu</td><td colspan=\"1\" rowspan=\"1\" string=\"—\" type=\"td\">—</td></tr><tr><th colspan=\"1\" rowspan=\"1\" string=\"2nd pers. sg.\" type=\"th\">2nd pers. sg.</th><th colspan=\"1\" rowspan=\"1\" string=\"tu\" type=\"th\">tu</th><td colspan=\"1\" rowspan=\"1\" string=\"____i\" type=\"td\">____i</td><td colspan=\"1\" rowspan=\"1\" string=\"____ēji\" type=\"td\">____ēji</td><td colspan=\"1\" rowspan=\"1\" string=\"____ēsi\" type=\"td\">____ēsi</td><td colspan=\"1\" rowspan=\"1\" string=\"____i\" type=\"td\">____i</td></tr><tr><th colspan=\"1\" rowspan=\"1\" string=\"3rd pers. sg.\" type=\"th\">3rd pers. sg.</th><th colspan=\"1\" rowspan=\"1\" string=\"viņš, viņa\" type=\"th\">viņš, viņa</th><td colspan=\"1\" rowspan=\"1\" string=\"____\" type=\"td\">____</td><td colspan=\"1\" rowspan=\"1\" string=\"____ēja\" type=\"td\">____ēja</td><td colspan=\"1\" rowspan=\"1\" string=\"____ēs\" type=\"td\">____ēs</td><td colspan=\"1\" rowspan=\"1\" string=\"lai ____\" type=\"td\">lai ____</td></tr><tr><th colspan=\"1\" rowspan=\"1\" string=\"1st pers. pl.\" type=\"th\">1st pers. pl.</th><th colspan=\"1\" rowspan=\"1\" string=\"mēs\" type=\"th\">mēs</th><td colspan=\"1\" rowspan=\"1\" string=\"____am\" type=\"td\">____am</td><td colspan=\"1\" rowspan=\"1\" string=\"____ējām\" type=\"td\">____ējām</td><td colspan=\"1\" rowspan=\"1\" string=\"____ēsim\" type=\"td\">____ēsim</td><td colspan=\"1\" rowspan=\"1\" string=\"____ēsim\" type=\"td\">____ēsim</td></tr><tr><th colspan=\"1\" rowspan=\"1\" string=\"2nd pers. pl.\" type=\"th\">2nd pers. pl.</th><th colspan=\"1\" rowspan=\"1\" string=\"jūs\" type=\"th\">jūs</th><td colspan=\"1\" rowspan=\"1\" string=\"____at\" type=\"td\">____at</td><td colspan=\"1\" rowspan=\"1\" string=\"____ējāt\" type=\"td\">____ējāt</td><td colspan=\"1\" rowspan=\"1\" string=\"____ēsiet,\n",
       "____ēsit\" type=\"td\">____ēsiet,\n",
       "____ēsit</td><td colspan=\"1\" rowspan=\"1\" string=\"____iet\" type=\"td\">____iet</td></tr><tr><th colspan=\"1\" rowspan=\"1\" string=\"3rd pers. pl.\" type=\"th\">3rd pers. pl.</th><th colspan=\"1\" rowspan=\"1\" string=\"viņi, viņas\" type=\"th\">viņi, viņas</th><td colspan=\"1\" rowspan=\"1\" string=\"____\" type=\"td\">____</td><td colspan=\"1\" rowspan=\"1\" string=\"____ēja\" type=\"td\">____ēja</td><td colspan=\"1\" rowspan=\"1\" string=\"____ēs\" type=\"td\">____ēs</td><td colspan=\"1\" rowspan=\"1\" string=\"lai ____\" type=\"td\">lai ____</td></tr><tr><th colspan=\"6\" rowspan=\"1\" string=\"\" type=\"th\"></th></tr><tr><th colspan=\"3\" rowspan=\"1\" string=\"RENARRATIVE (atstāstījuma izteiksme)\" type=\"th\">RENARRATIVE (atstāstījuma izteiksme)</th><th colspan=\"3\" rowspan=\"1\" string=\"PARTICIPLES (divdabji)\" type=\"th\">PARTICIPLES (divdabji)</th></tr><tr><th colspan=\"1\" rowspan=\"1\" string=\"Present\" type=\"th\">Present</th><th colspan=\"2\" rowspan=\"1\" string=\"Present Active 1 (Adj.)\" type=\"th\">Present Active 1 (Adj.)</th><td colspan=\"2\" rowspan=\"1\" string=\"____ot\" type=\"td\">____ot</td><td colspan=\"1\" rowspan=\"1\" string=\"____ošs\" type=\"td\">____ošs</td></tr><tr><th colspan=\"1\" rowspan=\"1\" string=\"Past\" type=\"th\">Past</th><th colspan=\"2\" rowspan=\"1\" string=\"Present Active 2 (Adv.)\" type=\"th\">Present Active 2 (Adv.)</th><td colspan=\"2\" rowspan=\"1\" string=\"esot ____ējis\" type=\"td\">esot ____ējis</td><td colspan=\"1\" rowspan=\"1\" string=\"____ēdams\" type=\"td\">____ēdams</td></tr><tr><th colspan=\"1\" rowspan=\"1\" string=\"Future\" type=\"th\">Future</th><th colspan=\"2\" rowspan=\"1\" string=\"Present Active 3 (Adv.)\" type=\"th\">Present Active 3 (Adv.)</th><td colspan=\"2\" rowspan=\"1\" string=\"____ēšot\" type=\"td\">____ēšot</td><td colspan=\"1\" rowspan=\"1\" string=\"____ot\" type=\"td\">____ot</td></tr><tr><th colspan=\"1\" rowspan=\"1\" string=\"Imperative\" type=\"th\">Imperative</th><th colspan=\"2\" rowspan=\"1\" string=\"Present Active 4 (Obj.)\" type=\"th\">Present Active 4 (Obj.)</th><td colspan=\"2\" rowspan=\"1\" string=\"lai ____ot\" type=\"td\">lai ____ot</td><td colspan=\"1\" rowspan=\"1\" string=\"____am\" type=\"td\">____am</td></tr><tr><th colspan=\"3\" rowspan=\"1\" string=\"CONDITIONAL (vēlējuma izteiksme)\" type=\"th\">CONDITIONAL (vēlējuma izteiksme)</th><th colspan=\"2\" rowspan=\"1\" string=\"Past Active\" type=\"th\">Past Active</th><td colspan=\"1\" rowspan=\"1\" string=\"____ējis\" type=\"td\">____ējis</td></tr><tr><th colspan=\"1\" rowspan=\"1\" string=\"Present\" type=\"th\">Present</th><th colspan=\"2\" rowspan=\"1\" string=\"Present Passive\" type=\"th\">Present Passive</th><td colspan=\"2\" rowspan=\"1\" string=\"____ētu\" type=\"td\">____ētu</td><td colspan=\"1\" rowspan=\"1\" string=\"____ams\" type=\"td\">____ams</td></tr><tr><th colspan=\"1\" rowspan=\"1\" string=\"Past\" type=\"th\">Past</th><th colspan=\"2\" rowspan=\"1\" string=\"Past Passive\" type=\"th\">Past Passive</th><td colspan=\"2\" rowspan=\"1\" string=\"būtu ____ējis\" type=\"td\">būtu ____ējis</td><td colspan=\"1\" rowspan=\"1\" string=\"____ēts\" type=\"td\">____ēts</td></tr><tr><th colspan=\"3\" rowspan=\"1\" string=\"DEBITIVE (vajadzības izteiksme)\" type=\"th\">DEBITIVE (vajadzības izteiksme)</th><th colspan=\"3\" rowspan=\"1\" string=\"NOMINAL FORMS\" type=\"th\">NOMINAL FORMS</th></tr><tr><th colspan=\"1\" rowspan=\"1\" string=\"Indicative\" type=\"th\">Indicative</th><th colspan=\"2\" rowspan=\"1\" string=\"Infinitive (nenoteiksme)\" type=\"th\">Infinitive (nenoteiksme)</th><td colspan=\"2\" rowspan=\"1\" string=\"(būt) jā____\" type=\"td\">(būt) jā____</td><td colspan=\"1\" rowspan=\"1\" string=\"____ēt\" type=\"td\">____ēt</td></tr><tr><th colspan=\"1\" rowspan=\"1\" string=\"Conjunctive 1\" type=\"th\">Conjunctive 1</th><th colspan=\"2\" rowspan=\"1\" string=\"Negative Infinitive\" type=\"th\">Negative Infinitive</th><td colspan=\"2\" rowspan=\"1\" string=\"esot jā____\" type=\"td\">esot jā____</td><td colspan=\"1\" rowspan=\"1\" string=\"ne____ēt\" type=\"td\">ne____ēt</td></tr><tr><th colspan=\"1\" rowspan=\"1\" string=\"Conjunctive 2\" type=\"th\">Conjunctive 2</th><th colspan=\"2\" rowspan=\"1\" string=\"Verbal noun\" type=\"th\">Verbal noun</th><td colspan=\"2\" rowspan=\"1\" string=\"jā____ot\" type=\"td\">jā____ot</td><td colspan=\"1\" rowspan=\"1\" string=\"____ēšana\" type=\"td\">____ēšana</td></tr></table></body></html>"
      ],
      "text/plain": [
       "<IPython.core.display.HTML object>"
      ]
     },
     "metadata": {},
     "output_type": "display_data"
    },
    {
     "name": "stdout",
     "output_type": "stream",
     "text": [
      "[aicin]āt, [audzin]āt, [bagātin]āt, [biedin]āt, [biezin]āt, [cepin]āt, [dancin]āt, [dievin]āt, [drošin]āt, [jautrin]āt, [kurin]āt, [mazin]āt\n"
     ]
    },
    {
     "data": {
      "text/html": [
       "<html><body><table><tr><th colspan=\"1\" rowspan=\"1\" string=\"\" type=\"th\"></th><th colspan=\"4\" rowspan=\"1\" string=\"INDICATIVE (īstenības izteiksme)\" type=\"th\">INDICATIVE (īstenības izteiksme)</th><th colspan=\"1\" rowspan=\"2\" string=\"IMPERATIVE\n",
       "(pavēles izteiksme)\" type=\"th\">IMPERATIVE\n",
       "(pavēles izteiksme)</th></tr><tr><th colspan=\"1\" rowspan=\"1\" string=\"\" type=\"th\"></th><th colspan=\"1\" rowspan=\"1\" string=\"\" type=\"th\"></th><th colspan=\"1\" rowspan=\"1\" string=\"Present\n",
       "(tagadne)\" type=\"th\">Present\n",
       "(tagadne)</th><th colspan=\"1\" rowspan=\"1\" string=\"Past\n",
       "(pagātne)\" type=\"th\">Past\n",
       "(pagātne)</th><th colspan=\"1\" rowspan=\"1\" string=\"Future\n",
       "(nākotne)\" type=\"th\">Future\n",
       "(nākotne)</th></tr><tr><th colspan=\"1\" rowspan=\"1\" string=\"1st pers. sg.\" type=\"th\">1st pers. sg.</th><th colspan=\"1\" rowspan=\"1\" string=\"es\" type=\"th\">es</th><td colspan=\"1\" rowspan=\"1\" string=\"____u\" type=\"td\">____u</td><td colspan=\"1\" rowspan=\"1\" string=\"____āju\" type=\"td\">____āju</td><td colspan=\"1\" rowspan=\"1\" string=\"____āšu\" type=\"td\">____āšu</td><td colspan=\"1\" rowspan=\"1\" string=\"—\" type=\"td\">—</td></tr><tr><th colspan=\"1\" rowspan=\"1\" string=\"2nd pers. sg.\" type=\"th\">2nd pers. sg.</th><th colspan=\"1\" rowspan=\"1\" string=\"tu\" type=\"th\">tu</th><td colspan=\"1\" rowspan=\"1\" string=\"____i\" type=\"td\">____i</td><td colspan=\"1\" rowspan=\"1\" string=\"____āji\" type=\"td\">____āji</td><td colspan=\"1\" rowspan=\"1\" string=\"____āsi\" type=\"td\">____āsi</td><td colspan=\"1\" rowspan=\"1\" string=\"____i\" type=\"td\">____i</td></tr><tr><th colspan=\"1\" rowspan=\"1\" string=\"3rd pers. sg.\" type=\"th\">3rd pers. sg.</th><th colspan=\"1\" rowspan=\"1\" string=\"viņš, viņa\" type=\"th\">viņš, viņa</th><td colspan=\"1\" rowspan=\"1\" string=\"____a\" type=\"td\">____a</td><td colspan=\"1\" rowspan=\"1\" string=\"____āja\" type=\"td\">____āja</td><td colspan=\"1\" rowspan=\"1\" string=\"____ās\" type=\"td\">____ās</td><td colspan=\"1\" rowspan=\"1\" string=\"lai ____a\" type=\"td\">lai ____a</td></tr><tr><th colspan=\"1\" rowspan=\"1\" string=\"1st pers. pl.\" type=\"th\">1st pers. pl.</th><th colspan=\"1\" rowspan=\"1\" string=\"mēs\" type=\"th\">mēs</th><td colspan=\"1\" rowspan=\"1\" string=\"____ām\" type=\"td\">____ām</td><td colspan=\"1\" rowspan=\"1\" string=\"____ājām\" type=\"td\">____ājām</td><td colspan=\"1\" rowspan=\"1\" string=\"____āsim\" type=\"td\">____āsim</td><td colspan=\"1\" rowspan=\"1\" string=\"____āsim\" type=\"td\">____āsim</td></tr><tr><th colspan=\"1\" rowspan=\"1\" string=\"2nd pers. pl.\" type=\"th\">2nd pers. pl.</th><th colspan=\"1\" rowspan=\"1\" string=\"jūs\" type=\"th\">jūs</th><td colspan=\"1\" rowspan=\"1\" string=\"____āt\" type=\"td\">____āt</td><td colspan=\"1\" rowspan=\"1\" string=\"____ājāt\" type=\"td\">____ājāt</td><td colspan=\"1\" rowspan=\"1\" string=\"____āsiet,\n",
       "____āsit\" type=\"td\">____āsiet,\n",
       "____āsit</td><td colspan=\"1\" rowspan=\"1\" string=\"____iet\" type=\"td\">____iet</td></tr><tr><th colspan=\"1\" rowspan=\"1\" string=\"3rd pers. pl.\" type=\"th\">3rd pers. pl.</th><th colspan=\"1\" rowspan=\"1\" string=\"viņi, viņas\" type=\"th\">viņi, viņas</th><td colspan=\"1\" rowspan=\"1\" string=\"____a\" type=\"td\">____a</td><td colspan=\"1\" rowspan=\"1\" string=\"____āja\" type=\"td\">____āja</td><td colspan=\"1\" rowspan=\"1\" string=\"____ās\" type=\"td\">____ās</td><td colspan=\"1\" rowspan=\"1\" string=\"lai ____a\" type=\"td\">lai ____a</td></tr><tr><th colspan=\"6\" rowspan=\"1\" string=\"\" type=\"th\"></th></tr><tr><th colspan=\"3\" rowspan=\"1\" string=\"RENARRATIVE (atstāstījuma izteiksme)\" type=\"th\">RENARRATIVE (atstāstījuma izteiksme)</th><th colspan=\"3\" rowspan=\"1\" string=\"PARTICIPLES (divdabji)\" type=\"th\">PARTICIPLES (divdabji)</th></tr><tr><th colspan=\"1\" rowspan=\"1\" string=\"Present\" type=\"th\">Present</th><th colspan=\"2\" rowspan=\"1\" string=\"Present Active 1 (Adj.)\" type=\"th\">Present Active 1 (Adj.)</th><td colspan=\"2\" rowspan=\"1\" string=\"____ot\" type=\"td\">____ot</td><td colspan=\"1\" rowspan=\"1\" string=\"____ošs\" type=\"td\">____ošs</td></tr><tr><th colspan=\"1\" rowspan=\"1\" string=\"Past\" type=\"th\">Past</th><th colspan=\"2\" rowspan=\"1\" string=\"Present Active 2 (Adv.)\" type=\"th\">Present Active 2 (Adv.)</th><td colspan=\"2\" rowspan=\"1\" string=\"esot ____ājis\" type=\"td\">esot ____ājis</td><td colspan=\"1\" rowspan=\"1\" string=\"____ādams\" type=\"td\">____ādams</td></tr><tr><th colspan=\"1\" rowspan=\"1\" string=\"Future\" type=\"th\">Future</th><th colspan=\"2\" rowspan=\"1\" string=\"Present Active 3 (Adv.)\" type=\"th\">Present Active 3 (Adv.)</th><td colspan=\"2\" rowspan=\"1\" string=\"____āšot\" type=\"td\">____āšot</td><td colspan=\"1\" rowspan=\"1\" string=\"____ot\" type=\"td\">____ot</td></tr><tr><th colspan=\"1\" rowspan=\"1\" string=\"Imperative\" type=\"th\">Imperative</th><th colspan=\"2\" rowspan=\"1\" string=\"Present Active 4 (Obj.)\" type=\"th\">Present Active 4 (Obj.)</th><td colspan=\"2\" rowspan=\"1\" string=\"lai ____ot\" type=\"td\">lai ____ot</td><td colspan=\"1\" rowspan=\"1\" string=\"____ām\" type=\"td\">____ām</td></tr><tr><th colspan=\"3\" rowspan=\"1\" string=\"CONDITIONAL (vēlējuma izteiksme)\" type=\"th\">CONDITIONAL (vēlējuma izteiksme)</th><th colspan=\"2\" rowspan=\"1\" string=\"Past Active\" type=\"th\">Past Active</th><td colspan=\"1\" rowspan=\"1\" string=\"____ājis\" type=\"td\">____ājis</td></tr><tr><th colspan=\"1\" rowspan=\"1\" string=\"Present\" type=\"th\">Present</th><th colspan=\"2\" rowspan=\"1\" string=\"Present Passive\" type=\"th\">Present Passive</th><td colspan=\"2\" rowspan=\"1\" string=\"____ātu\" type=\"td\">____ātu</td><td colspan=\"1\" rowspan=\"1\" string=\"____āms\" type=\"td\">____āms</td></tr><tr><th colspan=\"1\" rowspan=\"1\" string=\"Past\" type=\"th\">Past</th><th colspan=\"2\" rowspan=\"1\" string=\"Past Passive\" type=\"th\">Past Passive</th><td colspan=\"2\" rowspan=\"1\" string=\"būtu ____ājis\" type=\"td\">būtu ____ājis</td><td colspan=\"1\" rowspan=\"1\" string=\"____āts\" type=\"td\">____āts</td></tr><tr><th colspan=\"3\" rowspan=\"1\" string=\"DEBITIVE (vajadzības izteiksme)\" type=\"th\">DEBITIVE (vajadzības izteiksme)</th><th colspan=\"3\" rowspan=\"1\" string=\"NOMINAL FORMS\" type=\"th\">NOMINAL FORMS</th></tr><tr><th colspan=\"1\" rowspan=\"1\" string=\"Indicative\" type=\"th\">Indicative</th><th colspan=\"2\" rowspan=\"1\" string=\"Infinitive (nenoteiksme)\" type=\"th\">Infinitive (nenoteiksme)</th><td colspan=\"2\" rowspan=\"1\" string=\"(būt) jā____a\" type=\"td\">(būt) jā____a</td><td colspan=\"1\" rowspan=\"1\" string=\"____āt\" type=\"td\">____āt</td></tr><tr><th colspan=\"1\" rowspan=\"1\" string=\"Conjunctive 1\" type=\"th\">Conjunctive 1</th><th colspan=\"2\" rowspan=\"1\" string=\"Negative Infinitive\" type=\"th\">Negative Infinitive</th><td colspan=\"2\" rowspan=\"1\" string=\"esot jā____a\" type=\"td\">esot jā____a</td><td colspan=\"1\" rowspan=\"1\" string=\"ne____āt\" type=\"td\">ne____āt</td></tr><tr><th colspan=\"1\" rowspan=\"1\" string=\"Conjunctive 2\" type=\"th\">Conjunctive 2</th><th colspan=\"2\" rowspan=\"1\" string=\"Verbal noun\" type=\"th\">Verbal noun</th><td colspan=\"2\" rowspan=\"1\" string=\"jā____ot\" type=\"td\">jā____ot</td><td colspan=\"1\" rowspan=\"1\" string=\"____āšana\" type=\"td\">____āšana</td></tr></table></body></html>"
      ],
      "text/plain": [
       "<IPython.core.display.HTML object>"
      ]
     },
     "metadata": {},
     "output_type": "display_data"
    },
    {
     "name": "stdout",
     "output_type": "stream",
     "text": [
      "[aizar]t, [apcep]t, [atar]t, [atcep]t, [cep]t, [iear]t, [iecep]t, [izar]t, [izcep]t\n"
     ]
    },
    {
     "data": {
      "text/html": [
       "<html><body><table><tr><th colspan=\"1\" rowspan=\"1\" string=\"\" type=\"th\"></th><th colspan=\"4\" rowspan=\"1\" string=\"INDICATIVE (īstenības izteiksme)\" type=\"th\">INDICATIVE (īstenības izteiksme)</th><th colspan=\"1\" rowspan=\"2\" string=\"IMPERATIVE\n",
       "(pavēles izteiksme)\" type=\"th\">IMPERATIVE\n",
       "(pavēles izteiksme)</th></tr><tr><th colspan=\"1\" rowspan=\"1\" string=\"\" type=\"th\"></th><th colspan=\"1\" rowspan=\"1\" string=\"\" type=\"th\"></th><th colspan=\"1\" rowspan=\"1\" string=\"Present\n",
       "(tagadne)\" type=\"th\">Present\n",
       "(tagadne)</th><th colspan=\"1\" rowspan=\"1\" string=\"Past\n",
       "(pagātne)\" type=\"th\">Past\n",
       "(pagātne)</th><th colspan=\"1\" rowspan=\"1\" string=\"Future\n",
       "(nākotne)\" type=\"th\">Future\n",
       "(nākotne)</th></tr><tr><th colspan=\"1\" rowspan=\"1\" string=\"1st pers. sg.\" type=\"th\">1st pers. sg.</th><th colspan=\"1\" rowspan=\"1\" string=\"es\" type=\"th\">es</th><td colspan=\"1\" rowspan=\"1\" string=\"____u\" type=\"td\">____u</td><td colspan=\"1\" rowspan=\"1\" string=\"____u\" type=\"td\">____u</td><td colspan=\"1\" rowspan=\"1\" string=\"____šu\" type=\"td\">____šu</td><td colspan=\"1\" rowspan=\"1\" string=\"—\" type=\"td\">—</td></tr><tr><th colspan=\"1\" rowspan=\"1\" string=\"2nd pers. sg.\" type=\"th\">2nd pers. sg.</th><th colspan=\"1\" rowspan=\"1\" string=\"tu\" type=\"th\">tu</th><td colspan=\"1\" rowspan=\"1\" string=\"____\" type=\"td\">____</td><td colspan=\"1\" rowspan=\"1\" string=\"____i\" type=\"td\">____i</td><td colspan=\"1\" rowspan=\"1\" string=\"____si\" type=\"td\">____si</td><td colspan=\"1\" rowspan=\"1\" string=\"____\" type=\"td\">____</td></tr><tr><th colspan=\"1\" rowspan=\"1\" string=\"3rd pers. sg.\" type=\"th\">3rd pers. sg.</th><th colspan=\"1\" rowspan=\"1\" string=\"viņš, viņa\" type=\"th\">viņš, viņa</th><td colspan=\"1\" rowspan=\"1\" string=\"____\" type=\"td\">____</td><td colspan=\"1\" rowspan=\"1\" string=\"____a\" type=\"td\">____a</td><td colspan=\"1\" rowspan=\"1\" string=\"____s\" type=\"td\">____s</td><td colspan=\"1\" rowspan=\"1\" string=\"lai ____\" type=\"td\">lai ____</td></tr><tr><th colspan=\"1\" rowspan=\"1\" string=\"1st pers. pl.\" type=\"th\">1st pers. pl.</th><th colspan=\"1\" rowspan=\"1\" string=\"mēs\" type=\"th\">mēs</th><td colspan=\"1\" rowspan=\"1\" string=\"____am\" type=\"td\">____am</td><td colspan=\"1\" rowspan=\"1\" string=\"____ām\" type=\"td\">____ām</td><td colspan=\"1\" rowspan=\"1\" string=\"____sim\" type=\"td\">____sim</td><td colspan=\"1\" rowspan=\"1\" string=\"____sim\" type=\"td\">____sim</td></tr><tr><th colspan=\"1\" rowspan=\"1\" string=\"2nd pers. pl.\" type=\"th\">2nd pers. pl.</th><th colspan=\"1\" rowspan=\"1\" string=\"jūs\" type=\"th\">jūs</th><td colspan=\"1\" rowspan=\"1\" string=\"____at\" type=\"td\">____at</td><td colspan=\"1\" rowspan=\"1\" string=\"____āt\" type=\"td\">____āt</td><td colspan=\"1\" rowspan=\"1\" string=\"____siet,\n",
       "____sit\" type=\"td\">____siet,\n",
       "____sit</td><td colspan=\"1\" rowspan=\"1\" string=\"____iet\" type=\"td\">____iet</td></tr><tr><th colspan=\"1\" rowspan=\"1\" string=\"3rd pers. pl.\" type=\"th\">3rd pers. pl.</th><th colspan=\"1\" rowspan=\"1\" string=\"viņi, viņas\" type=\"th\">viņi, viņas</th><td colspan=\"1\" rowspan=\"1\" string=\"____\" type=\"td\">____</td><td colspan=\"1\" rowspan=\"1\" string=\"____a\" type=\"td\">____a</td><td colspan=\"1\" rowspan=\"1\" string=\"____s\" type=\"td\">____s</td><td colspan=\"1\" rowspan=\"1\" string=\"lai ____\" type=\"td\">lai ____</td></tr><tr><th colspan=\"6\" rowspan=\"1\" string=\"\" type=\"th\"></th></tr><tr><th colspan=\"3\" rowspan=\"1\" string=\"RENARRATIVE (atstāstījuma izteiksme)\" type=\"th\">RENARRATIVE (atstāstījuma izteiksme)</th><th colspan=\"3\" rowspan=\"1\" string=\"PARTICIPLES (divdabji)\" type=\"th\">PARTICIPLES (divdabji)</th></tr><tr><th colspan=\"1\" rowspan=\"1\" string=\"Present\" type=\"th\">Present</th><th colspan=\"2\" rowspan=\"1\" string=\"Present Active 1 (Adj.)\" type=\"th\">Present Active 1 (Adj.)</th><td colspan=\"2\" rowspan=\"1\" string=\"____ot\" type=\"td\">____ot</td><td colspan=\"1\" rowspan=\"1\" string=\"____ošs\" type=\"td\">____ošs</td></tr><tr><th colspan=\"1\" rowspan=\"1\" string=\"Past\" type=\"th\">Past</th><th colspan=\"2\" rowspan=\"1\" string=\"Present Active 2 (Adv.)\" type=\"th\">Present Active 2 (Adv.)</th><td colspan=\"2\" rowspan=\"1\" string=\"esot ____is\" type=\"td\">esot ____is</td><td colspan=\"1\" rowspan=\"1\" string=\"____dams\" type=\"td\">____dams</td></tr><tr><th colspan=\"1\" rowspan=\"1\" string=\"Future\" type=\"th\">Future</th><th colspan=\"2\" rowspan=\"1\" string=\"Present Active 3 (Adv.)\" type=\"th\">Present Active 3 (Adv.)</th><td colspan=\"2\" rowspan=\"1\" string=\"____šot\" type=\"td\">____šot</td><td colspan=\"1\" rowspan=\"1\" string=\"____ot\" type=\"td\">____ot</td></tr><tr><th colspan=\"1\" rowspan=\"1\" string=\"Imperative\" type=\"th\">Imperative</th><th colspan=\"2\" rowspan=\"1\" string=\"Present Active 4 (Obj.)\" type=\"th\">Present Active 4 (Obj.)</th><td colspan=\"2\" rowspan=\"1\" string=\"lai ____ot\" type=\"td\">lai ____ot</td><td colspan=\"1\" rowspan=\"1\" string=\"____am\" type=\"td\">____am</td></tr><tr><th colspan=\"3\" rowspan=\"1\" string=\"CONDITIONAL (vēlējuma izteiksme)\" type=\"th\">CONDITIONAL (vēlējuma izteiksme)</th><th colspan=\"2\" rowspan=\"1\" string=\"Past Active\" type=\"th\">Past Active</th><td colspan=\"1\" rowspan=\"1\" string=\"____is\" type=\"td\">____is</td></tr><tr><th colspan=\"1\" rowspan=\"1\" string=\"Present\" type=\"th\">Present</th><th colspan=\"2\" rowspan=\"1\" string=\"Present Passive\" type=\"th\">Present Passive</th><td colspan=\"2\" rowspan=\"1\" string=\"____tu\" type=\"td\">____tu</td><td colspan=\"1\" rowspan=\"1\" string=\"____ams\" type=\"td\">____ams</td></tr><tr><th colspan=\"1\" rowspan=\"1\" string=\"Past\" type=\"th\">Past</th><th colspan=\"2\" rowspan=\"1\" string=\"Past Passive\" type=\"th\">Past Passive</th><td colspan=\"2\" rowspan=\"1\" string=\"būtu ____is\" type=\"td\">būtu ____is</td><td colspan=\"1\" rowspan=\"1\" string=\"____ts\" type=\"td\">____ts</td></tr><tr><th colspan=\"3\" rowspan=\"1\" string=\"DEBITIVE (vajadzības izteiksme)\" type=\"th\">DEBITIVE (vajadzības izteiksme)</th><th colspan=\"3\" rowspan=\"1\" string=\"NOMINAL FORMS\" type=\"th\">NOMINAL FORMS</th></tr><tr><th colspan=\"1\" rowspan=\"1\" string=\"Indicative\" type=\"th\">Indicative</th><th colspan=\"2\" rowspan=\"1\" string=\"Infinitive (nenoteiksme)\" type=\"th\">Infinitive (nenoteiksme)</th><td colspan=\"2\" rowspan=\"1\" string=\"(būt) jā____\" type=\"td\">(būt) jā____</td><td colspan=\"1\" rowspan=\"1\" string=\"____t\" type=\"td\">____t</td></tr><tr><th colspan=\"1\" rowspan=\"1\" string=\"Conjunctive 1\" type=\"th\">Conjunctive 1</th><th colspan=\"2\" rowspan=\"1\" string=\"Negative Infinitive\" type=\"th\">Negative Infinitive</th><td colspan=\"2\" rowspan=\"1\" string=\"esot jā____\" type=\"td\">esot jā____</td><td colspan=\"1\" rowspan=\"1\" string=\"ne____t\" type=\"td\">ne____t</td></tr><tr><th colspan=\"1\" rowspan=\"1\" string=\"Conjunctive 2\" type=\"th\">Conjunctive 2</th><th colspan=\"2\" rowspan=\"1\" string=\"Verbal noun\" type=\"th\">Verbal noun</th><td colspan=\"2\" rowspan=\"1\" string=\"jā____ot\" type=\"td\">jā____ot</td><td colspan=\"1\" rowspan=\"1\" string=\"____šana\" type=\"td\">____šana</td></tr></table></body></html>"
      ],
      "text/plain": [
       "<IPython.core.display.HTML object>"
      ]
     },
     "metadata": {},
     "output_type": "display_data"
    },
    {
     "name": "stdout",
     "output_type": "stream",
     "text": [
      "[melo]t, [ceļo]t, [danco]t, [eksistē]t, [joko]t, [karo]t, [kāsē]t\n"
     ]
    },
    {
     "data": {
      "text/html": [
       "<html><body><table><tr><th colspan=\"1\" rowspan=\"1\" string=\"\" type=\"th\"></th><th colspan=\"4\" rowspan=\"1\" string=\"INDICATIVE (īstenības izteiksme)\" type=\"th\">INDICATIVE (īstenības izteiksme)</th><th colspan=\"1\" rowspan=\"2\" string=\"IMPERATIVE\n",
       "(pavēles izteiksme)\" type=\"th\">IMPERATIVE\n",
       "(pavēles izteiksme)</th></tr><tr><th colspan=\"1\" rowspan=\"1\" string=\"\" type=\"th\"></th><th colspan=\"1\" rowspan=\"1\" string=\"\" type=\"th\"></th><th colspan=\"1\" rowspan=\"1\" string=\"Present\n",
       "(tagadne)\" type=\"th\">Present\n",
       "(tagadne)</th><th colspan=\"1\" rowspan=\"1\" string=\"Past\n",
       "(pagātne)\" type=\"th\">Past\n",
       "(pagātne)</th><th colspan=\"1\" rowspan=\"1\" string=\"Future\n",
       "(nākotne)\" type=\"th\">Future\n",
       "(nākotne)</th></tr><tr><th colspan=\"1\" rowspan=\"1\" string=\"1st pers. sg.\" type=\"th\">1st pers. sg.</th><th colspan=\"1\" rowspan=\"1\" string=\"es\" type=\"th\">es</th><td colspan=\"1\" rowspan=\"1\" string=\"____ju\" type=\"td\">____ju</td><td colspan=\"1\" rowspan=\"1\" string=\"____ju\" type=\"td\">____ju</td><td colspan=\"1\" rowspan=\"1\" string=\"____šu\" type=\"td\">____šu</td><td colspan=\"1\" rowspan=\"1\" string=\"—\" type=\"td\">—</td></tr><tr><th colspan=\"1\" rowspan=\"1\" string=\"2nd pers. sg.\" type=\"th\">2nd pers. sg.</th><th colspan=\"1\" rowspan=\"1\" string=\"tu\" type=\"th\">tu</th><td colspan=\"1\" rowspan=\"1\" string=\"____\" type=\"td\">____</td><td colspan=\"1\" rowspan=\"1\" string=\"____ji\" type=\"td\">____ji</td><td colspan=\"1\" rowspan=\"1\" string=\"____si\" type=\"td\">____si</td><td colspan=\"1\" rowspan=\"1\" string=\"____\" type=\"td\">____</td></tr><tr><th colspan=\"1\" rowspan=\"1\" string=\"3rd pers. sg.\" type=\"th\">3rd pers. sg.</th><th colspan=\"1\" rowspan=\"1\" string=\"viņš, viņa\" type=\"th\">viņš, viņa</th><td colspan=\"1\" rowspan=\"1\" string=\"____\" type=\"td\">____</td><td colspan=\"1\" rowspan=\"1\" string=\"____ja\" type=\"td\">____ja</td><td colspan=\"1\" rowspan=\"1\" string=\"____s\" type=\"td\">____s</td><td colspan=\"1\" rowspan=\"1\" string=\"lai ____\" type=\"td\">lai ____</td></tr><tr><th colspan=\"1\" rowspan=\"1\" string=\"1st pers. pl.\" type=\"th\">1st pers. pl.</th><th colspan=\"1\" rowspan=\"1\" string=\"mēs\" type=\"th\">mēs</th><td colspan=\"1\" rowspan=\"1\" string=\"____jam\" type=\"td\">____jam</td><td colspan=\"1\" rowspan=\"1\" string=\"____jām\" type=\"td\">____jām</td><td colspan=\"1\" rowspan=\"1\" string=\"____sim\" type=\"td\">____sim</td><td colspan=\"1\" rowspan=\"1\" string=\"____sim\" type=\"td\">____sim</td></tr><tr><th colspan=\"1\" rowspan=\"1\" string=\"2nd pers. pl.\" type=\"th\">2nd pers. pl.</th><th colspan=\"1\" rowspan=\"1\" string=\"jūs\" type=\"th\">jūs</th><td colspan=\"1\" rowspan=\"1\" string=\"____jat\" type=\"td\">____jat</td><td colspan=\"1\" rowspan=\"1\" string=\"____jāt\" type=\"td\">____jāt</td><td colspan=\"1\" rowspan=\"1\" string=\"____siet,\n",
       "____sit\" type=\"td\">____siet,\n",
       "____sit</td><td colspan=\"1\" rowspan=\"1\" string=\"____jiet\" type=\"td\">____jiet</td></tr><tr><th colspan=\"1\" rowspan=\"1\" string=\"3rd pers. pl.\" type=\"th\">3rd pers. pl.</th><th colspan=\"1\" rowspan=\"1\" string=\"viņi, viņas\" type=\"th\">viņi, viņas</th><td colspan=\"1\" rowspan=\"1\" string=\"____\" type=\"td\">____</td><td colspan=\"1\" rowspan=\"1\" string=\"____ja\" type=\"td\">____ja</td><td colspan=\"1\" rowspan=\"1\" string=\"____s\" type=\"td\">____s</td><td colspan=\"1\" rowspan=\"1\" string=\"lai ____\" type=\"td\">lai ____</td></tr><tr><th colspan=\"6\" rowspan=\"1\" string=\"\" type=\"th\"></th></tr><tr><th colspan=\"3\" rowspan=\"1\" string=\"RENARRATIVE (atstāstījuma izteiksme)\" type=\"th\">RENARRATIVE (atstāstījuma izteiksme)</th><th colspan=\"3\" rowspan=\"1\" string=\"PARTICIPLES (divdabji)\" type=\"th\">PARTICIPLES (divdabji)</th></tr><tr><th colspan=\"1\" rowspan=\"1\" string=\"Present\" type=\"th\">Present</th><th colspan=\"2\" rowspan=\"1\" string=\"Present Active 1 (Adj.)\" type=\"th\">Present Active 1 (Adj.)</th><td colspan=\"2\" rowspan=\"1\" string=\"____jot\" type=\"td\">____jot</td><td colspan=\"1\" rowspan=\"1\" string=\"____jošs\" type=\"td\">____jošs</td></tr><tr><th colspan=\"1\" rowspan=\"1\" string=\"Past\" type=\"th\">Past</th><th colspan=\"2\" rowspan=\"1\" string=\"Present Active 2 (Adv.)\" type=\"th\">Present Active 2 (Adv.)</th><td colspan=\"2\" rowspan=\"1\" string=\"esot ____jis\" type=\"td\">esot ____jis</td><td colspan=\"1\" rowspan=\"1\" string=\"____dams\" type=\"td\">____dams</td></tr><tr><th colspan=\"1\" rowspan=\"1\" string=\"Future\" type=\"th\">Future</th><th colspan=\"2\" rowspan=\"1\" string=\"Present Active 3 (Adv.)\" type=\"th\">Present Active 3 (Adv.)</th><td colspan=\"2\" rowspan=\"1\" string=\"____šot\" type=\"td\">____šot</td><td colspan=\"1\" rowspan=\"1\" string=\"____jot\" type=\"td\">____jot</td></tr><tr><th colspan=\"1\" rowspan=\"1\" string=\"Imperative\" type=\"th\">Imperative</th><th colspan=\"2\" rowspan=\"1\" string=\"Present Active 4 (Obj.)\" type=\"th\">Present Active 4 (Obj.)</th><td colspan=\"2\" rowspan=\"1\" string=\"lai ____jot\" type=\"td\">lai ____jot</td><td colspan=\"1\" rowspan=\"1\" string=\"____jam\" type=\"td\">____jam</td></tr><tr><th colspan=\"3\" rowspan=\"1\" string=\"CONDITIONAL (vēlējuma izteiksme)\" type=\"th\">CONDITIONAL (vēlējuma izteiksme)</th><th colspan=\"2\" rowspan=\"1\" string=\"Past Active\" type=\"th\">Past Active</th><td colspan=\"1\" rowspan=\"1\" string=\"____jis\" type=\"td\">____jis</td></tr><tr><th colspan=\"1\" rowspan=\"1\" string=\"Present\" type=\"th\">Present</th><th colspan=\"2\" rowspan=\"1\" string=\"Present Passive\" type=\"th\">Present Passive</th><td colspan=\"2\" rowspan=\"1\" string=\"____tu\" type=\"td\">____tu</td><td colspan=\"1\" rowspan=\"1\" string=\"—\" type=\"td\">—</td></tr><tr><th colspan=\"1\" rowspan=\"1\" string=\"Past\" type=\"th\">Past</th><th colspan=\"2\" rowspan=\"1\" string=\"Past Passive\" type=\"th\">Past Passive</th><td colspan=\"2\" rowspan=\"1\" string=\"būtu ____jis\" type=\"td\">būtu ____jis</td><td colspan=\"1\" rowspan=\"1\" string=\"—\" type=\"td\">—</td></tr><tr><th colspan=\"3\" rowspan=\"1\" string=\"DEBITIVE (vajadzības izteiksme)\" type=\"th\">DEBITIVE (vajadzības izteiksme)</th><th colspan=\"3\" rowspan=\"1\" string=\"NOMINAL FORMS\" type=\"th\">NOMINAL FORMS</th></tr><tr><th colspan=\"1\" rowspan=\"1\" string=\"Indicative\" type=\"th\">Indicative</th><th colspan=\"2\" rowspan=\"1\" string=\"Infinitive (nenoteiksme)\" type=\"th\">Infinitive (nenoteiksme)</th><td colspan=\"2\" rowspan=\"1\" string=\"(būt) jā____\" type=\"td\">(būt) jā____</td><td colspan=\"1\" rowspan=\"1\" string=\"____t\" type=\"td\">____t</td></tr><tr><th colspan=\"1\" rowspan=\"1\" string=\"Conjunctive 1\" type=\"th\">Conjunctive 1</th><th colspan=\"2\" rowspan=\"1\" string=\"Negative Infinitive\" type=\"th\">Negative Infinitive</th><td colspan=\"2\" rowspan=\"1\" string=\"esot jā____\" type=\"td\">esot jā____</td><td colspan=\"1\" rowspan=\"1\" string=\"ne____t\" type=\"td\">ne____t</td></tr><tr><th colspan=\"1\" rowspan=\"1\" string=\"Conjunctive 2\" type=\"th\">Conjunctive 2</th><th colspan=\"2\" rowspan=\"1\" string=\"Verbal noun\" type=\"th\">Verbal noun</th><td colspan=\"2\" rowspan=\"1\" string=\"jā____jot\" type=\"td\">jā____jot</td><td colspan=\"1\" rowspan=\"1\" string=\"____šana\" type=\"td\">____šana</td></tr></table></body></html>"
      ],
      "text/plain": [
       "<IPython.core.display.HTML object>"
      ]
     },
     "metadata": {},
     "output_type": "display_data"
    },
    {
     "name": "stdout",
     "output_type": "stream",
     "text": [
      "[aizlie]gt, [bei]gt, [ieslē]gt, [izslē]gt, [jē]gt, [lie]gt, [lū]gt\n"
     ]
    },
    {
     "data": {
      "text/html": [
       "<html><body><table><tr><th colspan=\"1\" rowspan=\"1\" string=\"\" type=\"th\"></th><th colspan=\"4\" rowspan=\"1\" string=\"INDICATIVE (īstenības izteiksme)\" type=\"th\">INDICATIVE (īstenības izteiksme)</th><th colspan=\"1\" rowspan=\"2\" string=\"IMPERATIVE\n",
       "(pavēles izteiksme)\" type=\"th\">IMPERATIVE\n",
       "(pavēles izteiksme)</th></tr><tr><th colspan=\"1\" rowspan=\"1\" string=\"\" type=\"th\"></th><th colspan=\"1\" rowspan=\"1\" string=\"\" type=\"th\"></th><th colspan=\"1\" rowspan=\"1\" string=\"Present\n",
       "(tagadne)\" type=\"th\">Present\n",
       "(tagadne)</th><th colspan=\"1\" rowspan=\"1\" string=\"Past\n",
       "(pagātne)\" type=\"th\">Past\n",
       "(pagātne)</th><th colspan=\"1\" rowspan=\"1\" string=\"Future\n",
       "(nākotne)\" type=\"th\">Future\n",
       "(nākotne)</th></tr><tr><th colspan=\"1\" rowspan=\"1\" string=\"1st pers. sg.\" type=\"th\">1st pers. sg.</th><th colspan=\"1\" rowspan=\"1\" string=\"es\" type=\"th\">es</th><td colspan=\"1\" rowspan=\"1\" string=\"____dzu\" type=\"td\">____dzu</td><td colspan=\"1\" rowspan=\"1\" string=\"____dzu\" type=\"td\">____dzu</td><td colspan=\"1\" rowspan=\"1\" string=\"____gšu\" type=\"td\">____gšu</td><td colspan=\"1\" rowspan=\"1\" string=\"—\" type=\"td\">—</td></tr><tr><th colspan=\"1\" rowspan=\"1\" string=\"2nd pers. sg.\" type=\"th\">2nd pers. sg.</th><th colspan=\"1\" rowspan=\"1\" string=\"tu\" type=\"th\">tu</th><td colspan=\"1\" rowspan=\"1\" string=\"____dz\" type=\"td\">____dz</td><td colspan=\"1\" rowspan=\"1\" string=\"____dzi\" type=\"td\">____dzi</td><td colspan=\"1\" rowspan=\"1\" string=\"____gsi\" type=\"td\">____gsi</td><td colspan=\"1\" rowspan=\"1\" string=\"____dz\" type=\"td\">____dz</td></tr><tr><th colspan=\"1\" rowspan=\"1\" string=\"3rd pers. sg.\" type=\"th\">3rd pers. sg.</th><th colspan=\"1\" rowspan=\"1\" string=\"viņš, viņa\" type=\"th\">viņš, viņa</th><td colspan=\"1\" rowspan=\"1\" string=\"____dz\" type=\"td\">____dz</td><td colspan=\"1\" rowspan=\"1\" string=\"____dza\" type=\"td\">____dza</td><td colspan=\"1\" rowspan=\"1\" string=\"____gs\" type=\"td\">____gs</td><td colspan=\"1\" rowspan=\"1\" string=\"lai ____dz\" type=\"td\">lai ____dz</td></tr><tr><th colspan=\"1\" rowspan=\"1\" string=\"1st pers. pl.\" type=\"th\">1st pers. pl.</th><th colspan=\"1\" rowspan=\"1\" string=\"mēs\" type=\"th\">mēs</th><td colspan=\"1\" rowspan=\"1\" string=\"____dzam\" type=\"td\">____dzam</td><td colspan=\"1\" rowspan=\"1\" string=\"____dzām\" type=\"td\">____dzām</td><td colspan=\"1\" rowspan=\"1\" string=\"____gsim\" type=\"td\">____gsim</td><td colspan=\"1\" rowspan=\"1\" string=\"____gsim\" type=\"td\">____gsim</td></tr><tr><th colspan=\"1\" rowspan=\"1\" string=\"2nd pers. pl.\" type=\"th\">2nd pers. pl.</th><th colspan=\"1\" rowspan=\"1\" string=\"jūs\" type=\"th\">jūs</th><td colspan=\"1\" rowspan=\"1\" string=\"____dzat\" type=\"td\">____dzat</td><td colspan=\"1\" rowspan=\"1\" string=\"____dzāt\" type=\"td\">____dzāt</td><td colspan=\"1\" rowspan=\"1\" string=\"____gsiet,\n",
       "____gsit\" type=\"td\">____gsiet,\n",
       "____gsit</td><td colspan=\"1\" rowspan=\"1\" string=\"____dziet\" type=\"td\">____dziet</td></tr><tr><th colspan=\"1\" rowspan=\"1\" string=\"3rd pers. pl.\" type=\"th\">3rd pers. pl.</th><th colspan=\"1\" rowspan=\"1\" string=\"viņi, viņas\" type=\"th\">viņi, viņas</th><td colspan=\"1\" rowspan=\"1\" string=\"____dz\" type=\"td\">____dz</td><td colspan=\"1\" rowspan=\"1\" string=\"____dza\" type=\"td\">____dza</td><td colspan=\"1\" rowspan=\"1\" string=\"____gs\" type=\"td\">____gs</td><td colspan=\"1\" rowspan=\"1\" string=\"lai ____dz\" type=\"td\">lai ____dz</td></tr><tr><th colspan=\"6\" rowspan=\"1\" string=\"\" type=\"th\"></th></tr><tr><th colspan=\"3\" rowspan=\"1\" string=\"RENARRATIVE (atstāstījuma izteiksme)\" type=\"th\">RENARRATIVE (atstāstījuma izteiksme)</th><th colspan=\"3\" rowspan=\"1\" string=\"PARTICIPLES (divdabji)\" type=\"th\">PARTICIPLES (divdabji)</th></tr><tr><th colspan=\"1\" rowspan=\"1\" string=\"Present\" type=\"th\">Present</th><th colspan=\"2\" rowspan=\"1\" string=\"Present Active 1 (Adj.)\" type=\"th\">Present Active 1 (Adj.)</th><td colspan=\"2\" rowspan=\"1\" string=\"____dzot\" type=\"td\">____dzot</td><td colspan=\"1\" rowspan=\"1\" string=\"____dzošs\" type=\"td\">____dzošs</td></tr><tr><th colspan=\"1\" rowspan=\"1\" string=\"Past\" type=\"th\">Past</th><th colspan=\"2\" rowspan=\"1\" string=\"Present Active 2 (Adv.)\" type=\"th\">Present Active 2 (Adv.)</th><td colspan=\"2\" rowspan=\"1\" string=\"esot ____dzis\" type=\"td\">esot ____dzis</td><td colspan=\"1\" rowspan=\"1\" string=\"____gdams\" type=\"td\">____gdams</td></tr><tr><th colspan=\"1\" rowspan=\"1\" string=\"Future\" type=\"th\">Future</th><th colspan=\"2\" rowspan=\"1\" string=\"Present Active 3 (Adv.)\" type=\"th\">Present Active 3 (Adv.)</th><td colspan=\"2\" rowspan=\"1\" string=\"____gšot\" type=\"td\">____gšot</td><td colspan=\"1\" rowspan=\"1\" string=\"____dzot\" type=\"td\">____dzot</td></tr><tr><th colspan=\"1\" rowspan=\"1\" string=\"Imperative\" type=\"th\">Imperative</th><th colspan=\"2\" rowspan=\"1\" string=\"Present Active 4 (Obj.)\" type=\"th\">Present Active 4 (Obj.)</th><td colspan=\"2\" rowspan=\"1\" string=\"lai ____dzot\" type=\"td\">lai ____dzot</td><td colspan=\"1\" rowspan=\"1\" string=\"____dzam\" type=\"td\">____dzam</td></tr><tr><th colspan=\"3\" rowspan=\"1\" string=\"CONDITIONAL (vēlējuma izteiksme)\" type=\"th\">CONDITIONAL (vēlējuma izteiksme)</th><th colspan=\"2\" rowspan=\"1\" string=\"Past Active\" type=\"th\">Past Active</th><td colspan=\"1\" rowspan=\"1\" string=\"____dzis\" type=\"td\">____dzis</td></tr><tr><th colspan=\"1\" rowspan=\"1\" string=\"Present\" type=\"th\">Present</th><th colspan=\"2\" rowspan=\"1\" string=\"Present Passive\" type=\"th\">Present Passive</th><td colspan=\"2\" rowspan=\"1\" string=\"____gtu\" type=\"td\">____gtu</td><td colspan=\"1\" rowspan=\"1\" string=\"____dzams\" type=\"td\">____dzams</td></tr><tr><th colspan=\"1\" rowspan=\"1\" string=\"Past\" type=\"th\">Past</th><th colspan=\"2\" rowspan=\"1\" string=\"Past Passive\" type=\"th\">Past Passive</th><td colspan=\"2\" rowspan=\"1\" string=\"būtu ____dzis\" type=\"td\">būtu ____dzis</td><td colspan=\"1\" rowspan=\"1\" string=\"____gts\" type=\"td\">____gts</td></tr><tr><th colspan=\"3\" rowspan=\"1\" string=\"DEBITIVE (vajadzības izteiksme)\" type=\"th\">DEBITIVE (vajadzības izteiksme)</th><th colspan=\"3\" rowspan=\"1\" string=\"NOMINAL FORMS\" type=\"th\">NOMINAL FORMS</th></tr><tr><th colspan=\"1\" rowspan=\"1\" string=\"Indicative\" type=\"th\">Indicative</th><th colspan=\"2\" rowspan=\"1\" string=\"Infinitive (nenoteiksme)\" type=\"th\">Infinitive (nenoteiksme)</th><td colspan=\"2\" rowspan=\"1\" string=\"(būt) jā____dz\" type=\"td\">(būt) jā____dz</td><td colspan=\"1\" rowspan=\"1\" string=\"____gt\" type=\"td\">____gt</td></tr><tr><th colspan=\"1\" rowspan=\"1\" string=\"Conjunctive 1\" type=\"th\">Conjunctive 1</th><th colspan=\"2\" rowspan=\"1\" string=\"Negative Infinitive\" type=\"th\">Negative Infinitive</th><td colspan=\"2\" rowspan=\"1\" string=\"esot jā____dz\" type=\"td\">esot jā____dz</td><td colspan=\"1\" rowspan=\"1\" string=\"ne____gt\" type=\"td\">ne____gt</td></tr><tr><th colspan=\"1\" rowspan=\"1\" string=\"Conjunctive 2\" type=\"th\">Conjunctive 2</th><th colspan=\"2\" rowspan=\"1\" string=\"Verbal noun\" type=\"th\">Verbal noun</th><td colspan=\"2\" rowspan=\"1\" string=\"jā____dzot\" type=\"td\">jā____dzot</td><td colspan=\"1\" rowspan=\"1\" string=\"____gšana\" type=\"td\">____gšana</td></tr></table></body></html>"
      ],
      "text/plain": [
       "<IPython.core.display.HTML object>"
      ]
     },
     "metadata": {},
     "output_type": "display_data"
    }
   ],
   "source": [
    "from IPython.core.display import display, HTML\n",
    "\n",
    "def make_html(table_json):\n",
    "    soup = BeautifulSoup('<table></table>', 'lxml')\n",
    "    table = soup.table\n",
    "    for row in table_json:\n",
    "        tr = soup.new_tag('tr')\n",
    "        for col in row:\n",
    "            td = soup.new_tag(col['type'], **col)\n",
    "            td.string = col['string']\n",
    "            tr.append(td)\n",
    "        table.append(tr)\n",
    "    return str(soup)\n",
    "\n",
    "for words, rule in sorted(summarized_rules, key=lambda x: -len(x[0])):\n",
    "    if len(words) > 5:\n",
    "        print(', '.join(words))\n",
    "        display(HTML(make_html(rule)))"
   ]
  }
 ],
 "metadata": {
  "kernelspec": {
   "display_name": "Python 3",
   "language": "python",
   "name": "python3"
  },
  "language_info": {
   "codemirror_mode": {
    "name": "ipython",
    "version": 3
   },
   "file_extension": ".py",
   "mimetype": "text/x-python",
   "name": "python",
   "nbconvert_exporter": "python",
   "pygments_lexer": "ipython3",
   "version": "3.6.4"
  }
 },
 "nbformat": 4,
 "nbformat_minor": 2
}
