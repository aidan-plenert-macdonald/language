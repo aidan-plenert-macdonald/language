{
 "cells": [
  {
   "cell_type": "code",
   "execution_count": 7,
   "metadata": {},
   "outputs": [
    {
     "data": {
      "text/html": [
       "<script>requirejs.config({paths: { 'plotly': ['https://cdn.plot.ly/plotly-latest.min']},});if(!window.Plotly) {{require(['plotly'],function(plotly) {window.Plotly=plotly;});}}</script>"
      ],
      "text/vnd.plotly.v1+html": [
       "<script>requirejs.config({paths: { 'plotly': ['https://cdn.plot.ly/plotly-latest.min']},});if(!window.Plotly) {{require(['plotly'],function(plotly) {window.Plotly=plotly;});}}</script>"
      ]
     },
     "metadata": {},
     "output_type": "display_data"
    },
    {
     "data": {
      "application/vnd.plotly.v1+json": {
       "data": [
        {
         "marker": {
          "size": 12
         },
         "mode": "lines+markers",
         "stream": {
          "token": "s0"
         },
         "type": "scatter",
         "x": [
          0,
          1
         ],
         "y": [
          1,
          0
         ]
        }
       ],
       "layout": {}
      },
      "text/html": [
       "<div id=\"31b1bf14-684d-40e6-9648-aea60f1db078\" style=\"height: 525px; width: 100%;\" class=\"plotly-graph-div\"></div><script type=\"text/javascript\">require([\"plotly\"], function(Plotly) { window.PLOTLYENV=window.PLOTLYENV || {};window.PLOTLYENV.BASE_URL=\"https://plot.ly\";Plotly.newPlot(\"31b1bf14-684d-40e6-9648-aea60f1db078\", [{\"x\": [0, 1], \"y\": [1, 0], \"type\": \"scatter\", \"mode\": \"lines+markers\", \"marker\": {\"size\": 12}, \"stream\": {\"token\": \"s0\"}}], {}, {\"showLink\": true, \"linkText\": \"Export to plot.ly\"})});</script>"
      ],
      "text/vnd.plotly.v1+html": [
       "<div id=\"31b1bf14-684d-40e6-9648-aea60f1db078\" style=\"height: 525px; width: 100%;\" class=\"plotly-graph-div\"></div><script type=\"text/javascript\">require([\"plotly\"], function(Plotly) { window.PLOTLYENV=window.PLOTLYENV || {};window.PLOTLYENV.BASE_URL=\"https://plot.ly\";Plotly.newPlot(\"31b1bf14-684d-40e6-9648-aea60f1db078\", [{\"x\": [0, 1], \"y\": [1, 0], \"type\": \"scatter\", \"mode\": \"lines+markers\", \"marker\": {\"size\": 12}, \"stream\": {\"token\": \"s0\"}}], {}, {\"showLink\": true, \"linkText\": \"Export to plot.ly\"})});</script>"
      ]
     },
     "metadata": {},
     "output_type": "display_data"
    }
   ],
   "source": [
    "import numpy as np\n",
    "import plotly.offline as py\n",
    "from IPython.display import display, HTML\n",
    "\n",
    "py.init_notebook_mode(connected=True)\n",
    "\n",
    "stream_token = 's0'\n",
    "py.iplot(\n",
    "    [\n",
    "        {\n",
    "            'x': [0, 1],\n",
    "            'y': [1, 0],\n",
    "            'type': 'scatter', \n",
    "            'mode': 'lines+markers',\n",
    "            'marker': {\n",
    "                'size': 12\n",
    "            },\n",
    "            'stream': {\n",
    "                'token': stream_token, \n",
    "            }\n",
    "        }\n",
    "    ],\n",
    "    filename='basic-stream'\n",
    ")"
   ]
  },
  {
   "cell_type": "code",
   "execution_count": 10,
   "metadata": {},
   "outputs": [
    {
     "ename": "AttributeError",
     "evalue": "module 'plotly.offline' has no attribute 'OfflineStream'",
     "output_type": "error",
     "traceback": [
      "\u001b[0;31m---------------------------------------------------------------------------\u001b[0m",
      "\u001b[0;31mAttributeError\u001b[0m                            Traceback (most recent call last)",
      "\u001b[0;32m<ipython-input-10-8fdb061fc1b9>\u001b[0m in \u001b[0;36m<module>\u001b[0;34m()\u001b[0m\n\u001b[0;32m----> 1\u001b[0;31m \u001b[0ms\u001b[0m \u001b[0;34m=\u001b[0m \u001b[0mpy\u001b[0m\u001b[0;34m.\u001b[0m\u001b[0mOfflineStream\u001b[0m\u001b[0;34m(\u001b[0m\u001b[0mstream_token\u001b[0m\u001b[0;34m)\u001b[0m\u001b[0;34m\u001b[0m\u001b[0m\n\u001b[0m",
      "\u001b[0;31mAttributeError\u001b[0m: module 'plotly.offline' has no attribute 'OfflineStream'"
     ]
    }
   ],
   "source": [
    "s = py.OfflineStream(stream_token)"
   ]
  }
 ],
 "metadata": {
  "kernelspec": {
   "display_name": "Python 3",
   "language": "python",
   "name": "python3"
  },
  "language_info": {
   "codemirror_mode": {
    "name": "ipython",
    "version": 3
   },
   "file_extension": ".py",
   "mimetype": "text/x-python",
   "name": "python",
   "nbconvert_exporter": "python",
   "pygments_lexer": "ipython3",
   "version": "3.6.3"
  }
 },
 "nbformat": 4,
 "nbformat_minor": 2
}
