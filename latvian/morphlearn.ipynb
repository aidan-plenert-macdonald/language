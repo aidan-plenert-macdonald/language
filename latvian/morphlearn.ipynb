{
 "cells": [
  {
   "cell_type": "code",
   "execution_count": 3,
   "metadata": {},
   "outputs": [],
   "source": [
    "import sqlite3\n",
    "conn = sqlite3.connect('morphology.db')\n",
    "c = conn.cursor()"
   ]
  },
  {
   "cell_type": "code",
   "execution_count": 2,
   "metadata": {},
   "outputs": [
    {
     "data": {
      "text/plain": [
       "[('nominatīvs',),\n",
       " ('ģenitīvs',),\n",
       " ('datīvs',),\n",
       " ('akuzatīvs',),\n",
       " ('lokatīvs',),\n",
       " ('vokatīvs',),\n",
       " ('',)]"
      ]
     },
     "execution_count": 2,
     "metadata": {},
     "output_type": "execute_result"
    }
   ],
   "source": [
    "c.execute(\"\"\"\n",
    "SELECT DISTINCT nouncase FROM lex\n",
    "\"\"\")\n",
    "c.fetchall()"
   ]
  },
  {
   "cell_type": "code",
   "execution_count": 22,
   "metadata": {},
   "outputs": [
    {
     "data": {
      "text/plain": [
       "[]"
      ]
     },
     "execution_count": 22,
     "metadata": {},
     "output_type": "execute_result"
    }
   ],
   "source": [
    "c.execute(\"DROP VIEW IF EXISTS splitlex\")\n",
    "c.execute(\"\"\"\n",
    "CREATE VIEW splitlex AS\n",
    "SELECT DISTINCT\n",
    "    LOWER(SUBSTR(word, LENGTH(word)-x+1, x)) as char,\n",
    "    x as num,\n",
    "    word,\n",
    "    nouncase\n",
    "FROM lex\n",
    "INNER JOIN (\n",
    "    WITH RECURSIVE\n",
    "      cnt(x) AS (\n",
    "         SELECT 1\n",
    "         UNION ALL\n",
    "         SELECT x+1 FROM cnt\n",
    "         LIMIT 8\n",
    "      )\n",
    "    SELECT x FROM cnt\n",
    ") AS numbers\n",
    "ON numbers.x <= LENGTH(word)\n",
    "\"\"\")\n",
    "c.fetchall()"
   ]
  },
  {
   "cell_type": "code",
   "execution_count": 29,
   "metadata": {},
   "outputs": [
    {
     "data": {
      "text/plain": [
       "[]"
      ]
     },
     "execution_count": 29,
     "metadata": {},
     "output_type": "execute_result"
    }
   ],
   "source": [
    "c.execute(\"DROP TABLE IF EXISTS nouncase\")\n",
    "c.execute(\"\"\"\n",
    "CREATE TABLE nouncase AS\n",
    "SELECT * FROM (\n",
    "    SELECT\n",
    "        splitlex.char, splitlex.num, splitlex.nouncase,\n",
    "        chartotal.total AS chartotal, COUNT(DISTINCT splitlex.word) AS cnt,\n",
    "        COUNT(DISTINCT splitlex.word) * 1.0 / chartotal.total AS prob,\n",
    "        COUNT(DISTINCT splitlex.word) * 1.0 / casetotals.total AS coverage\n",
    "    FROM splitlex\n",
    "    INNER JOIN (\n",
    "        SELECT nouncase, COUNT(DISTINCT word) AS total\n",
    "        FROM lex\n",
    "        GROUP BY nouncase\n",
    "    ) AS casetotals\n",
    "    ON casetotals.nouncase = splitlex.nouncase\n",
    "    INNER JOIN (\n",
    "        SELECT char, num, COUNT(DISTINCT word || '-----' || nouncase) AS total\n",
    "        FROM splitlex\n",
    "        GROUP BY char, num\n",
    "    ) AS chartotal\n",
    "    ON splitlex.num = chartotal.num AND splitlex.char = chartotal.char\n",
    "    GROUP BY splitlex.char, splitlex.nouncase, splitlex.num\n",
    "    ) AS a\n",
    "WHERE prob > 0.2\n",
    "\"\"\")\n",
    "c.fetchall()"
   ]
  },
  {
   "cell_type": "code",
   "execution_count": 30,
   "metadata": {},
   "outputs": [],
   "source": [
    "c.execute(\"\"\"\n",
    "CREATE INDEX IF NOT EXISTS nouncase_num_index\n",
    "ON nouncase (num)\n",
    "\"\"\")\n",
    "conn.commit()"
   ]
  },
  {
   "cell_type": "code",
   "execution_count": 37,
   "metadata": {},
   "outputs": [
    {
     "data": {
      "text/plain": [
       "([('ēdiens', 'diens', 'nominatīvs', 1.0),\n",
       "  ('ēdiens', 'ns', 'vokatīvs', 0.3011320754716981),\n",
       "  ('ēdiens', 's', 'akuzatīvs', 0.2316308389874739)],\n",
       " 0.3505682945251465)"
      ]
     },
     "execution_count": 37,
     "metadata": {},
     "output_type": "execute_result"
    }
   ],
   "source": [
    "import time\n",
    "\n",
    "def nouncase(word):\n",
    "    start = time.time()\n",
    "    c.execute(\"\"\"\n",
    "    SELECT s.word, s.char, nouncase.nouncase, MAX(nouncase.prob)\n",
    "    FROM (\n",
    "    WITH RECURSIVE\n",
    "        cnt(x) AS (\n",
    "            SELECT 1\n",
    "            UNION ALL\n",
    "            SELECT x+1 FROM cnt\n",
    "            LIMIT 8\n",
    "        )\n",
    "        SELECT\n",
    "            ? AS word,\n",
    "            SUBSTR(?, LENGTH(?)-x+1, x) AS char,\n",
    "            x AS num\n",
    "        FROM cnt\n",
    "    ) AS s\n",
    "    INNER JOIN nouncase\n",
    "    ON nouncase.char = s.char AND nouncase.num = s.num\n",
    "    GROUP BY nouncase.nouncase\n",
    "    ORDER BY prob DESC\n",
    "    LIMIT 3\n",
    "    \"\"\", (word, word, word))\n",
    "    return c.fetchall(), time.time() - start\n",
    "\n",
    "nouncase(\"ēdiens\")"
   ]
  },
  {
   "cell_type": "code",
   "execution_count": 38,
   "metadata": {},
   "outputs": [
    {
     "data": {
      "text/plain": [
       "([('vakcīna', 'īna', 'ģenitīvs', 0.5452322738386308),\n",
       "  ('vakcīna', 'kcīna', 'vokatīvs', 0.5),\n",
       "  ('vakcīna', 'kcīna', 'nominatīvs', 0.5)],\n",
       " 0.3474299907684326)"
      ]
     },
     "execution_count": 38,
     "metadata": {},
     "output_type": "execute_result"
    }
   ],
   "source": [
    "nouncase(\"vakcīna\")"
   ]
  },
  {
   "cell_type": "code",
   "execution_count": 39,
   "metadata": {},
   "outputs": [
    {
     "data": {
      "text/plain": [
       "([('pilsoņi', 'oņi', 'nominatīvs', 0.5063291139240507),\n",
       "  ('pilsoņi', 'ņi', 'vokatīvs', 0.5000452570601014),\n",
       "  ('pilsoņi', 'i', 'datīvs', 0.38692873704781233)],\n",
       " 0.3458237648010254)"
      ]
     },
     "execution_count": 39,
     "metadata": {},
     "output_type": "execute_result"
    }
   ],
   "source": [
    "nouncase(\"pilsoņi\")"
   ]
  }
 ],
 "metadata": {
  "kernelspec": {
   "display_name": "Python 3",
   "language": "python",
   "name": "python3"
  },
  "language_info": {
   "codemirror_mode": {
    "name": "ipython",
    "version": 3
   },
   "file_extension": ".py",
   "mimetype": "text/x-python",
   "name": "python",
   "nbconvert_exporter": "python",
   "pygments_lexer": "ipython3",
   "version": "3.9.0"
  }
 },
 "nbformat": 4,
 "nbformat_minor": 4
}
