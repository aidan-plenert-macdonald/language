{
 "cells": [
  {
   "cell_type": "markdown",
   "metadata": {},
   "source": [
    "# Reflexive Verbs\n",
    "\n",
    "Gotta love the lack of documentation about obscure languages. Lets scrape the conjugation rules from the internet.\n",
    "\n",
    "## First scrape a bunch of reflexive verb tables"
   ]
  },
  {
   "cell_type": "code",
   "execution_count": 50,
   "metadata": {
    "scrolled": true
   },
   "outputs": [],
   "source": [
    "from bs4 import BeautifulSoup\n",
    "import requests\n",
    "from pprint import pprint\n",
    "\n",
    "def get_soup(suffix, base_url='https://en.wiktionary.org'):\n",
    "    return BeautifulSoup(requests.get(base_url + suffix).text, 'lxml')\n",
    "\n",
    "words = {}\n",
    "\n",
    "base_soup = get_soup('/wiki/Category:Latvian_reflexive_verbs')\n",
    "for word_soup in base_soup.find_all('div', class_='mw-content-ltr')[0].find_all('a', href=True):\n",
    "    if word_soup.has_attr('title'):\n",
    "        conjug_soup = get_soup(word_soup['href']).find_all('table', class_='inflection-table')\n",
    "        data = [\n",
    "            [\n",
    "                {\"string\":ele.text.strip(),\n",
    "                 \"type\": \"th\",\n",
    "                 \"rowspan\": int(ele['rowspan']) if ele.has_attr('rowspan') else 1,\n",
    "                 \"colspan\": int(ele['colspan']) if ele.has_attr('colspan') else 1}\n",
    "                for ele in row.find_all('th')\n",
    "                #if ele.text.strip()\n",
    "            ] + [\n",
    "                {\"string\":ele.text.strip(),\n",
    "                 \"type\": \"td\",\n",
    "                 \"rowspan\": int(ele['rowspan']) if ele.has_attr('rowspan') else 1,\n",
    "                 \"colspan\": int(ele['colspan']) if ele.has_attr('colspan') else 1}\n",
    "                for ele in row.find_all('td')\n",
    "                #if ele.text.strip()\n",
    "            ]\n",
    "            for row in conjug_soup[0].find_all('tr')\n",
    "        ]\n",
    "        words[word_soup.text] = data\n",
    "#pprint(words)"
   ]
  },
  {
   "cell_type": "markdown",
   "metadata": {},
   "source": [
    "## Try to extract out how the stem is used"
   ]
  },
  {
   "cell_type": "code",
   "execution_count": 49,
   "metadata": {},
   "outputs": [
    {
     "name": "stdout",
     "output_type": "stream",
     "text": [
      "apcep ties\n",
      "apsprie sties\n",
      "atcer ēties\n",
      "atvaino ties\n",
      "baid īties\n",
      "bī ties\n",
      "cen sties\n",
      "cepinā ties\n",
      "cep ties\n",
      "ciemo ties\n",
      "do ties\n",
      "izcep ties\n",
      "izskat īties\n",
      "klaus īties\n",
      "kust ēties\n",
      "lik ties\n",
      "mērcē ties\n",
      "nocep ties\n",
      "pacep ties\n",
      "paskat īties\n",
      "prostituē ties\n",
      "pārcep ties\n",
      "redz ēties\n",
      "rie ties\n",
      "sacep ties\n",
      "sapulcē ties\n",
      "sauļo ties\n",
      "skat īties\n",
      "smie ties\n",
      "uzcep ties\n",
      "uzdo ties\n",
      "vaislo ties\n",
      "vel ties\n",
      "vēlē ties\n"
     ]
    }
   ],
   "source": [
    "import matplotlib.pyplot as plt\n",
    "import numpy as np\n",
    "\n",
    "for word in words:\n",
    "    conjugated_forms = ''.join([\n",
    "        col['string']\n",
    "        for row in words[word]\n",
    "        for col in row\n",
    "        if col['type'] == 'td'\n",
    "    ])\n",
    "    \n",
    "    stem_length_weight = 2.5\n",
    "    occurances = np.array([\n",
    "        conjugated_forms.count(word[:i]) * (i+1)**stem_length_weight\n",
    "        for i in range(len(word))\n",
    "    ])\n",
    "    print(word[:np.argmax(occurances)], word[np.argmax(occurances):])"
   ]
  },
  {
   "cell_type": "markdown",
   "metadata": {},
   "source": [
    "## Now we can display our stem table"
   ]
  },
  {
   "cell_type": "code",
   "execution_count": 37,
   "metadata": {},
   "outputs": [
    {
     "data": {
      "text/html": [
       "<html><body><table><tr><th colspan=\"1\" rowspan=\"1\" string=\"\" type=\"th\"></th><th colspan=\"4\" rowspan=\"1\" string=\"INDICATIVE (īstenības izteiksme)\" type=\"th\">INDICATIVE (īstenības izteiksme)</th><th colspan=\"1\" rowspan=\"2\" string=\"IMPERATIVE\n",
       "(pavēles izteiksme)\" type=\"th\">IMPERATIVE\n",
       "(pavēles izteiksme)</th></tr><tr><th colspan=\"1\" rowspan=\"1\" string=\"\" type=\"th\"></th><th colspan=\"1\" rowspan=\"1\" string=\"\" type=\"th\"></th><th colspan=\"1\" rowspan=\"1\" string=\"Present\n",
       "(tagadne)\" type=\"th\">Present\n",
       "(tagadne)</th><th colspan=\"1\" rowspan=\"1\" string=\"Past\n",
       "(pagātne)\" type=\"th\">Past\n",
       "(pagātne)</th><th colspan=\"1\" rowspan=\"1\" string=\"Future\n",
       "(nākotne)\" type=\"th\">Future\n",
       "(nākotne)</th></tr><tr><th colspan=\"1\" rowspan=\"1\" string=\"1st pers. sg.\" type=\"th\">1st pers. sg.</th><th colspan=\"1\" rowspan=\"1\" string=\"es\" type=\"th\">es</th><td colspan=\"1\" rowspan=\"1\" string=\"—\" type=\"td\">—</td><td colspan=\"1\" rowspan=\"1\" string=\"—\" type=\"td\">—</td><td colspan=\"1\" rowspan=\"1\" string=\"—\" type=\"td\">—</td><td colspan=\"1\" rowspan=\"1\" string=\"—\" type=\"td\">—</td></tr><tr><th colspan=\"1\" rowspan=\"1\" string=\"2nd pers. sg.\" type=\"th\">2nd pers. sg.</th><th colspan=\"1\" rowspan=\"1\" string=\"tu\" type=\"th\">tu</th><td colspan=\"1\" rowspan=\"1\" string=\"—\" type=\"td\">—</td><td colspan=\"1\" rowspan=\"1\" string=\"—\" type=\"td\">—</td><td colspan=\"1\" rowspan=\"1\" string=\"—\" type=\"td\">—</td><td colspan=\"1\" rowspan=\"1\" string=\"—\" type=\"td\">—</td></tr><tr><th colspan=\"1\" rowspan=\"1\" string=\"3rd pers. sg.\" type=\"th\">3rd pers. sg.</th><th colspan=\"1\" rowspan=\"1\" string=\"viņš, viņa\" type=\"th\">viņš, viņa</th><td colspan=\"1\" rowspan=\"1\" string=\"apcepas\" type=\"td\">apcepas</td><td colspan=\"1\" rowspan=\"1\" string=\"apcepās\" type=\"td\">apcepās</td><td colspan=\"1\" rowspan=\"1\" string=\"apcepsies\" type=\"td\">apcepsies</td><td colspan=\"1\" rowspan=\"1\" string=\"lai apcepas\" type=\"td\">lai apcepas</td></tr><tr><th colspan=\"1\" rowspan=\"1\" string=\"1st pers. pl.\" type=\"th\">1st pers. pl.</th><th colspan=\"1\" rowspan=\"1\" string=\"mēs\" type=\"th\">mēs</th><td colspan=\"1\" rowspan=\"1\" string=\"—\" type=\"td\">—</td><td colspan=\"1\" rowspan=\"1\" string=\"—\" type=\"td\">—</td><td colspan=\"1\" rowspan=\"1\" string=\"—\" type=\"td\">—</td><td colspan=\"1\" rowspan=\"1\" string=\"—\" type=\"td\">—</td></tr><tr><th colspan=\"1\" rowspan=\"1\" string=\"2nd pers. pl.\" type=\"th\">2nd pers. pl.</th><th colspan=\"1\" rowspan=\"1\" string=\"jūs\" type=\"th\">jūs</th><td colspan=\"1\" rowspan=\"1\" string=\"—\" type=\"td\">—</td><td colspan=\"1\" rowspan=\"1\" string=\"—\" type=\"td\">—</td><td colspan=\"1\" rowspan=\"1\" string=\"—\" type=\"td\">—</td><td colspan=\"1\" rowspan=\"1\" string=\"—\" type=\"td\">—</td></tr><tr><th colspan=\"1\" rowspan=\"1\" string=\"3rd pers. pl.\" type=\"th\">3rd pers. pl.</th><th colspan=\"1\" rowspan=\"1\" string=\"viņi, viņas\" type=\"th\">viņi, viņas</th><td colspan=\"1\" rowspan=\"1\" string=\"apcepas\" type=\"td\">apcepas</td><td colspan=\"1\" rowspan=\"1\" string=\"apcepās\" type=\"td\">apcepās</td><td colspan=\"1\" rowspan=\"1\" string=\"apcepsies\" type=\"td\">apcepsies</td><td colspan=\"1\" rowspan=\"1\" string=\"lai apcepas\" type=\"td\">lai apcepas</td></tr><tr><th colspan=\"6\" rowspan=\"1\" string=\"\" type=\"th\"></th></tr><tr><th colspan=\"3\" rowspan=\"1\" string=\"RENARRATIVE (atstāstījuma izteiksme)\" type=\"th\">RENARRATIVE (atstāstījuma izteiksme)</th><th colspan=\"3\" rowspan=\"1\" string=\"PARTICIPLES (divdabji)\" type=\"th\">PARTICIPLES (divdabji)</th></tr><tr><th colspan=\"1\" rowspan=\"1\" string=\"Present\" type=\"th\">Present</th><th colspan=\"2\" rowspan=\"1\" string=\"Present Active 1 (Adj.)\" type=\"th\">Present Active 1 (Adj.)</th><td colspan=\"2\" rowspan=\"1\" string=\"apcepoties\" type=\"td\">apcepoties</td><td colspan=\"1\" rowspan=\"1\" string=\"—\" type=\"td\">—</td></tr><tr><th colspan=\"1\" rowspan=\"1\" string=\"Past\" type=\"th\">Past</th><th colspan=\"2\" rowspan=\"1\" string=\"Present Active 2 (Adv.)\" type=\"th\">Present Active 2 (Adv.)</th><td colspan=\"2\" rowspan=\"1\" string=\"esot apcepies\" type=\"td\">esot apcepies</td><td colspan=\"1\" rowspan=\"1\" string=\"apcepdamies\" type=\"td\">apcepdamies</td></tr><tr><th colspan=\"1\" rowspan=\"1\" string=\"Future\" type=\"th\">Future</th><th colspan=\"2\" rowspan=\"1\" string=\"Present Active 3 (Adv.)\" type=\"th\">Present Active 3 (Adv.)</th><td colspan=\"2\" rowspan=\"1\" string=\"apcepšoties\" type=\"td\">apcepšoties</td><td colspan=\"1\" rowspan=\"1\" string=\"apcepoties\" type=\"td\">apcepoties</td></tr><tr><th colspan=\"1\" rowspan=\"1\" string=\"Imperative\" type=\"th\">Imperative</th><th colspan=\"2\" rowspan=\"1\" string=\"Present Active 4 (Obj.)\" type=\"th\">Present Active 4 (Obj.)</th><td colspan=\"2\" rowspan=\"1\" string=\"lai apcepoties\" type=\"td\">lai apcepoties</td><td colspan=\"1\" rowspan=\"1\" string=\"apcepamies\" type=\"td\">apcepamies</td></tr><tr><th colspan=\"3\" rowspan=\"1\" string=\"CONDITIONAL (vēlējuma izteiksme)\" type=\"th\">CONDITIONAL (vēlējuma izteiksme)</th><th colspan=\"2\" rowspan=\"1\" string=\"Past Active\" type=\"th\">Past Active</th><td colspan=\"1\" rowspan=\"1\" string=\"apcepies\" type=\"td\">apcepies</td></tr><tr><th colspan=\"1\" rowspan=\"1\" string=\"Present\" type=\"th\">Present</th><th colspan=\"2\" rowspan=\"1\" string=\"Present Passive\" type=\"th\">Present Passive</th><td colspan=\"2\" rowspan=\"1\" string=\"apceptos\" type=\"td\">apceptos</td><td colspan=\"1\" rowspan=\"1\" string=\"—\" type=\"td\">—</td></tr><tr><th colspan=\"1\" rowspan=\"1\" string=\"Past\" type=\"th\">Past</th><th colspan=\"2\" rowspan=\"1\" string=\"Past Passive\" type=\"th\">Past Passive</th><td colspan=\"2\" rowspan=\"1\" string=\"būtu apcepies\" type=\"td\">būtu apcepies</td><td colspan=\"1\" rowspan=\"1\" string=\"—\" type=\"td\">—</td></tr><tr><th colspan=\"3\" rowspan=\"1\" string=\"DEBITIVE (vajadzības izteiksme)\" type=\"th\">DEBITIVE (vajadzības izteiksme)</th><th colspan=\"3\" rowspan=\"1\" string=\"NOMINAL FORMS\" type=\"th\">NOMINAL FORMS</th></tr><tr><th colspan=\"1\" rowspan=\"1\" string=\"Indicative\" type=\"th\">Indicative</th><th colspan=\"2\" rowspan=\"1\" string=\"Infinitive (nenoteiksme)\" type=\"th\">Infinitive (nenoteiksme)</th><td colspan=\"2\" rowspan=\"1\" string=\"(būt) jāapcepas\" type=\"td\">(būt) jāapcepas</td><td colspan=\"1\" rowspan=\"1\" string=\"apcepties\" type=\"td\">apcepties</td></tr><tr><th colspan=\"1\" rowspan=\"1\" string=\"Conjunctive 1\" type=\"th\">Conjunctive 1</th><th colspan=\"2\" rowspan=\"1\" string=\"Negative Infinitive\" type=\"th\">Negative Infinitive</th><td colspan=\"2\" rowspan=\"1\" string=\"esot jāapcepas\" type=\"td\">esot jāapcepas</td><td colspan=\"1\" rowspan=\"1\" string=\"neapcepties\" type=\"td\">neapcepties</td></tr><tr><th colspan=\"1\" rowspan=\"1\" string=\"Conjunctive 2\" type=\"th\">Conjunctive 2</th><th colspan=\"2\" rowspan=\"1\" string=\"Verbal noun\" type=\"th\">Verbal noun</th><td colspan=\"2\" rowspan=\"1\" string=\"jāapcepoties\" type=\"td\">jāapcepoties</td><td colspan=\"1\" rowspan=\"1\" string=\"apcepšanās\" type=\"td\">apcepšanās</td></tr></table></body></html>"
      ],
      "text/plain": [
       "<IPython.core.display.HTML object>"
      ]
     },
     "metadata": {},
     "output_type": "display_data"
    }
   ],
   "source": [
    "from IPython.core.display import display, HTML\n",
    "\n",
    "def make_html(table_json):\n",
    "    soup = BeautifulSoup('<table></table>', 'lxml')\n",
    "    table = soup.table\n",
    "    for row in table_json:\n",
    "        tr = soup.new_tag('tr')\n",
    "        for col in row:\n",
    "            td = soup.new_tag(col['type'], **col)\n",
    "            td.string = col['string']\n",
    "            tr.append(td)\n",
    "        table.append(tr)\n",
    "    return str(soup)\n",
    "    \n",
    "display(HTML(make_html(words['apcepties'])))"
   ]
  }
 ],
 "metadata": {
  "kernelspec": {
   "display_name": "Python 3",
   "language": "python",
   "name": "python3"
  },
  "language_info": {
   "codemirror_mode": {
    "name": "ipython",
    "version": 3
   },
   "file_extension": ".py",
   "mimetype": "text/x-python",
   "name": "python",
   "nbconvert_exporter": "python",
   "pygments_lexer": "ipython3",
   "version": "3.6.3"
  }
 },
 "nbformat": 4,
 "nbformat_minor": 2
}
